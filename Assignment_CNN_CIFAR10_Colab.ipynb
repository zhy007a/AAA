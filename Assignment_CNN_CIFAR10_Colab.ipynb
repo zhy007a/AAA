{
  "nbformat": 4,
  "nbformat_minor": 0,
  "metadata": {
    "accelerator": "GPU",
    "colab": {
      "name": "Assignment_CNN_CIFAR10_Colab.ipynb",
      "provenance": [],
      "collapsed_sections": [],
      "toc_visible": true,
      "include_colab_link": true
    },
    "kernelspec": {
      "display_name": "Python 3",
      "language": "python",
      "name": "python3"
    },
    "language_info": {
      "codemirror_mode": {
        "name": "ipython",
        "version": 3
      },
      "file_extension": ".py",
      "mimetype": "text/x-python",
      "name": "python",
      "nbconvert_exporter": "python",
      "pygments_lexer": "ipython3",
      "version": "3.6.9"
    },
    "widgets": {
      "application/vnd.jupyter.widget-state+json": {
        "7e3077efdbf049da999664bf60dc64a0": {
          "model_module": "@jupyter-widgets/controls",
          "model_name": "HBoxModel",
          "model_module_version": "1.5.0",
          "state": {
            "_dom_classes": [],
            "_model_module": "@jupyter-widgets/controls",
            "_model_module_version": "1.5.0",
            "_model_name": "HBoxModel",
            "_view_count": null,
            "_view_module": "@jupyter-widgets/controls",
            "_view_module_version": "1.5.0",
            "_view_name": "HBoxView",
            "box_style": "",
            "children": [
              "IPY_MODEL_4c3f40edd07a4573993da4db83b554f4",
              "IPY_MODEL_684c255b063b49c1a19cb488dc8d3f48",
              "IPY_MODEL_2601bd3afb454dfca6ee354353326357"
            ],
            "layout": "IPY_MODEL_2fa341e475bb4f16b81f64b22263b9e6"
          }
        },
        "4c3f40edd07a4573993da4db83b554f4": {
          "model_module": "@jupyter-widgets/controls",
          "model_name": "HTMLModel",
          "model_module_version": "1.5.0",
          "state": {
            "_dom_classes": [],
            "_model_module": "@jupyter-widgets/controls",
            "_model_module_version": "1.5.0",
            "_model_name": "HTMLModel",
            "_view_count": null,
            "_view_module": "@jupyter-widgets/controls",
            "_view_module_version": "1.5.0",
            "_view_name": "HTMLView",
            "description": "",
            "description_tooltip": null,
            "layout": "IPY_MODEL_862c25f8ada6401e8051217ea6da5e04",
            "placeholder": "​",
            "style": "IPY_MODEL_af9bc835448543d5bd1b4cdfd597302d",
            "value": ""
          }
        },
        "684c255b063b49c1a19cb488dc8d3f48": {
          "model_module": "@jupyter-widgets/controls",
          "model_name": "FloatProgressModel",
          "model_module_version": "1.5.0",
          "state": {
            "_dom_classes": [],
            "_model_module": "@jupyter-widgets/controls",
            "_model_module_version": "1.5.0",
            "_model_name": "FloatProgressModel",
            "_view_count": null,
            "_view_module": "@jupyter-widgets/controls",
            "_view_module_version": "1.5.0",
            "_view_name": "ProgressView",
            "bar_style": "success",
            "description": "",
            "description_tooltip": null,
            "layout": "IPY_MODEL_722636ef55b6474f947b458b1a203273",
            "max": 170498071,
            "min": 0,
            "orientation": "horizontal",
            "style": "IPY_MODEL_478b0c64c95246a7bf28db38f9175b22",
            "value": 170498071
          }
        },
        "2601bd3afb454dfca6ee354353326357": {
          "model_module": "@jupyter-widgets/controls",
          "model_name": "HTMLModel",
          "model_module_version": "1.5.0",
          "state": {
            "_dom_classes": [],
            "_model_module": "@jupyter-widgets/controls",
            "_model_module_version": "1.5.0",
            "_model_name": "HTMLModel",
            "_view_count": null,
            "_view_module": "@jupyter-widgets/controls",
            "_view_module_version": "1.5.0",
            "_view_name": "HTMLView",
            "description": "",
            "description_tooltip": null,
            "layout": "IPY_MODEL_901c54d087fe4e0d8cd41d5d5f2e5351",
            "placeholder": "​",
            "style": "IPY_MODEL_575c05d0c47f4b88937dc298696a70cc",
            "value": " 170499072/? [00:02&lt;00:00, 63450646.65it/s]"
          }
        },
        "2fa341e475bb4f16b81f64b22263b9e6": {
          "model_module": "@jupyter-widgets/base",
          "model_name": "LayoutModel",
          "model_module_version": "1.2.0",
          "state": {
            "_model_module": "@jupyter-widgets/base",
            "_model_module_version": "1.2.0",
            "_model_name": "LayoutModel",
            "_view_count": null,
            "_view_module": "@jupyter-widgets/base",
            "_view_module_version": "1.2.0",
            "_view_name": "LayoutView",
            "align_content": null,
            "align_items": null,
            "align_self": null,
            "border": null,
            "bottom": null,
            "display": null,
            "flex": null,
            "flex_flow": null,
            "grid_area": null,
            "grid_auto_columns": null,
            "grid_auto_flow": null,
            "grid_auto_rows": null,
            "grid_column": null,
            "grid_gap": null,
            "grid_row": null,
            "grid_template_areas": null,
            "grid_template_columns": null,
            "grid_template_rows": null,
            "height": null,
            "justify_content": null,
            "justify_items": null,
            "left": null,
            "margin": null,
            "max_height": null,
            "max_width": null,
            "min_height": null,
            "min_width": null,
            "object_fit": null,
            "object_position": null,
            "order": null,
            "overflow": null,
            "overflow_x": null,
            "overflow_y": null,
            "padding": null,
            "right": null,
            "top": null,
            "visibility": null,
            "width": null
          }
        },
        "862c25f8ada6401e8051217ea6da5e04": {
          "model_module": "@jupyter-widgets/base",
          "model_name": "LayoutModel",
          "model_module_version": "1.2.0",
          "state": {
            "_model_module": "@jupyter-widgets/base",
            "_model_module_version": "1.2.0",
            "_model_name": "LayoutModel",
            "_view_count": null,
            "_view_module": "@jupyter-widgets/base",
            "_view_module_version": "1.2.0",
            "_view_name": "LayoutView",
            "align_content": null,
            "align_items": null,
            "align_self": null,
            "border": null,
            "bottom": null,
            "display": null,
            "flex": null,
            "flex_flow": null,
            "grid_area": null,
            "grid_auto_columns": null,
            "grid_auto_flow": null,
            "grid_auto_rows": null,
            "grid_column": null,
            "grid_gap": null,
            "grid_row": null,
            "grid_template_areas": null,
            "grid_template_columns": null,
            "grid_template_rows": null,
            "height": null,
            "justify_content": null,
            "justify_items": null,
            "left": null,
            "margin": null,
            "max_height": null,
            "max_width": null,
            "min_height": null,
            "min_width": null,
            "object_fit": null,
            "object_position": null,
            "order": null,
            "overflow": null,
            "overflow_x": null,
            "overflow_y": null,
            "padding": null,
            "right": null,
            "top": null,
            "visibility": null,
            "width": null
          }
        },
        "af9bc835448543d5bd1b4cdfd597302d": {
          "model_module": "@jupyter-widgets/controls",
          "model_name": "DescriptionStyleModel",
          "model_module_version": "1.5.0",
          "state": {
            "_model_module": "@jupyter-widgets/controls",
            "_model_module_version": "1.5.0",
            "_model_name": "DescriptionStyleModel",
            "_view_count": null,
            "_view_module": "@jupyter-widgets/base",
            "_view_module_version": "1.2.0",
            "_view_name": "StyleView",
            "description_width": ""
          }
        },
        "722636ef55b6474f947b458b1a203273": {
          "model_module": "@jupyter-widgets/base",
          "model_name": "LayoutModel",
          "model_module_version": "1.2.0",
          "state": {
            "_model_module": "@jupyter-widgets/base",
            "_model_module_version": "1.2.0",
            "_model_name": "LayoutModel",
            "_view_count": null,
            "_view_module": "@jupyter-widgets/base",
            "_view_module_version": "1.2.0",
            "_view_name": "LayoutView",
            "align_content": null,
            "align_items": null,
            "align_self": null,
            "border": null,
            "bottom": null,
            "display": null,
            "flex": null,
            "flex_flow": null,
            "grid_area": null,
            "grid_auto_columns": null,
            "grid_auto_flow": null,
            "grid_auto_rows": null,
            "grid_column": null,
            "grid_gap": null,
            "grid_row": null,
            "grid_template_areas": null,
            "grid_template_columns": null,
            "grid_template_rows": null,
            "height": null,
            "justify_content": null,
            "justify_items": null,
            "left": null,
            "margin": null,
            "max_height": null,
            "max_width": null,
            "min_height": null,
            "min_width": null,
            "object_fit": null,
            "object_position": null,
            "order": null,
            "overflow": null,
            "overflow_x": null,
            "overflow_y": null,
            "padding": null,
            "right": null,
            "top": null,
            "visibility": null,
            "width": null
          }
        },
        "478b0c64c95246a7bf28db38f9175b22": {
          "model_module": "@jupyter-widgets/controls",
          "model_name": "ProgressStyleModel",
          "model_module_version": "1.5.0",
          "state": {
            "_model_module": "@jupyter-widgets/controls",
            "_model_module_version": "1.5.0",
            "_model_name": "ProgressStyleModel",
            "_view_count": null,
            "_view_module": "@jupyter-widgets/base",
            "_view_module_version": "1.2.0",
            "_view_name": "StyleView",
            "bar_color": null,
            "description_width": ""
          }
        },
        "901c54d087fe4e0d8cd41d5d5f2e5351": {
          "model_module": "@jupyter-widgets/base",
          "model_name": "LayoutModel",
          "model_module_version": "1.2.0",
          "state": {
            "_model_module": "@jupyter-widgets/base",
            "_model_module_version": "1.2.0",
            "_model_name": "LayoutModel",
            "_view_count": null,
            "_view_module": "@jupyter-widgets/base",
            "_view_module_version": "1.2.0",
            "_view_name": "LayoutView",
            "align_content": null,
            "align_items": null,
            "align_self": null,
            "border": null,
            "bottom": null,
            "display": null,
            "flex": null,
            "flex_flow": null,
            "grid_area": null,
            "grid_auto_columns": null,
            "grid_auto_flow": null,
            "grid_auto_rows": null,
            "grid_column": null,
            "grid_gap": null,
            "grid_row": null,
            "grid_template_areas": null,
            "grid_template_columns": null,
            "grid_template_rows": null,
            "height": null,
            "justify_content": null,
            "justify_items": null,
            "left": null,
            "margin": null,
            "max_height": null,
            "max_width": null,
            "min_height": null,
            "min_width": null,
            "object_fit": null,
            "object_position": null,
            "order": null,
            "overflow": null,
            "overflow_x": null,
            "overflow_y": null,
            "padding": null,
            "right": null,
            "top": null,
            "visibility": null,
            "width": null
          }
        },
        "575c05d0c47f4b88937dc298696a70cc": {
          "model_module": "@jupyter-widgets/controls",
          "model_name": "DescriptionStyleModel",
          "model_module_version": "1.5.0",
          "state": {
            "_model_module": "@jupyter-widgets/controls",
            "_model_module_version": "1.5.0",
            "_model_name": "DescriptionStyleModel",
            "_view_count": null,
            "_view_module": "@jupyter-widgets/base",
            "_view_module_version": "1.2.0",
            "_view_name": "StyleView",
            "description_width": ""
          }
        }
      }
    }
  },
  "cells": [
    {
      "cell_type": "markdown",
      "metadata": {
        "id": "view-in-github",
        "colab_type": "text"
      },
      "source": [
        "<a href=\"https://colab.research.google.com/github/zhy007a/AAA/blob/master/Assignment_CNN_CIFAR10_Colab.ipynb\" target=\"_parent\"><img src=\"https://colab.research.google.com/assets/colab-badge.svg\" alt=\"Open In Colab\"/></a>"
      ]
    },
    {
      "cell_type": "markdown",
      "metadata": {
        "id": "uW9Bg8A-JGaY",
        "nbgrader": {
          "grade": false,
          "locked": true,
          "solution": false
        }
      },
      "source": [
        "# <font style=\"color:blue\">Assignment: Implement a CNN for Image Classification on CIFAR10 dataset</font>\n",
        "\n",
        "We have seen how to implement a CNN (LeNet5 and LeNet with the batch norm) in the last section. We used MNIST and Fashion MNIST dataset which are grayscale or single channel datasets. In this assignment, you will implement a CNN Model ( similar to LeNet ) for classifying objects in the `CIFAR10` dataset. \n",
        "\n",
        "The CIFAR10 dataset has the following properties\n",
        "1. It has `10` classes.  \n",
        "1. It has colored images, so it has `3-channels`. \n",
        "1. The image shape is `32 x 32`.\n",
        "\n",
        "Samples of CIFAR10- dataset ([source](https://pytorch.org/tutorials/beginner/blitz/cifar10_tutorial.html?highlight=cifar)):\n",
        "\n",
        "<img src=\"https://www.learnopencv.com/wp-content/uploads/2020/01/c3_w3_cirar10.png\" width=700>\n",
        "\n",
        "\n",
        "# <font color='blue'>Marking Scheme</font>\n",
        "\n",
        "### <font style=\"color:green\">Maximum Points: 30\n",
        "\n",
        "<div>\n",
        "    <table>\n",
        "        <tr><td><h3>Sr. no.</h3></td> <td><h3>Problem</h3></td> <td><h3>Points</h3></td> </tr>\n",
        "        <tr><td><h3>1</h3></td> <td><h3>Implement the CNN Model</h3></td> <td><h3>10</h3></td> </tr>\n",
        "        <tr><td><h3>2</h3></td> <td><h3>Find Mean and Std of Training Data</h3></td> <td><h3>5</h3></td> </tr>\n",
        "        <tr><td><h3>3</h3></td> <td><h3>Model Training & Accuracy</h3></td> <td><h3>15</h3></td> </tr>\n",
        "    </table>\n",
        "</div>\n",
        "\n",
        "\n",
        "# <font color='blue'>Problem Description</font>\n",
        "\n",
        "### <font color='blue'>1. Implement the CNN Model</font>\n",
        "Since the task is to classify objects in a dataset of color images, you need to implement a CNN with 10 output classes. **Also, your model must use `Conv2d`, `BatchNorm2d`, and `ReLU`.** \n",
        "\n",
        "**You need to define the model architecture in the function: `MyModel` ( Step 1 )**\n",
        "\n",
        "Hint: For color images you need to use an input shape that is different than the ones we have been using till now, so that it accepts 3 channel inputs.\n",
        "\n",
        "### <font color='blue'>2. Find Mean and Std of Training Data</font>\n",
        "\n",
        "It is a good practice to normalize the training data. To normalize the data, we need to compute mean and std. As the dataset has colored images, it has `3-channel` (RGB or BGR). We have to find mean and std per channel using training data. \n",
        "\n",
        "**You need to compute the mean and std for the dataset in the function: `get_mean_std_train_data` ( Step 3 )**\n",
        "\n",
        "### <font color='blue'>3. Model Training and Accuracy</font>\n",
        "\n",
        "Once you have defined the model, you can train it. To get better accuracy, you need to play around the training configuration **( Step 5 )** and even the model architecture. You can check the accuracy by running the training loop in `Step 11`.\n",
        "\n",
        "Here are a few hints on how you can improve the accuracy:\n",
        "- Train for longer duration\n",
        "- Try with different learning rate\n",
        "- Try to add more convolutional layers to the architecture\n",
        "- Try to add more nodes in the layers.\n",
        "\n",
        "You need to achieve **75% accuracy** ( See Step11 ) in order to get full marks for this part. \n",
        "\n",
        "**You do not need to implement anything for this, just changing the parameters as mentioned above and running the Notebook will give you the accuracy. ( Step 5 and Step 11 )**"
      ]
    },
    {
      "cell_type": "code",
      "metadata": {
        "id": "zJmbahxxJGah",
        "nbgrader": {
          "grade": false,
          "locked": true,
          "solution": false
        }
      },
      "source": [
        "required_training = True"
      ],
      "execution_count": 4,
      "outputs": []
    },
    {
      "cell_type": "code",
      "metadata": {
        "id": "T6H2Qu9FJGak",
        "nbgrader": {
          "grade": false,
          "locked": true,
          "solution": false
        }
      },
      "source": [
        "%matplotlib inline"
      ],
      "execution_count": 5,
      "outputs": []
    },
    {
      "cell_type": "code",
      "metadata": {
        "id": "_mzyIelRJGao",
        "nbgrader": {
          "grade": false,
          "locked": true,
          "solution": false
        }
      },
      "source": [
        "import matplotlib.pyplot as plt  # one of the best graphics library for python"
      ],
      "execution_count": 6,
      "outputs": []
    },
    {
      "cell_type": "code",
      "metadata": {
        "id": "GUx0pTPAJGar",
        "nbgrader": {
          "grade": false,
          "locked": true,
          "solution": false
        }
      },
      "source": [
        "import os\n",
        "import time\n",
        "\n",
        "from typing import Iterable\n",
        "from dataclasses import dataclass\n",
        "\n",
        "import numpy as np\n",
        "import torch\n",
        "import torch.nn as nn\n",
        "import torch.optim as optim\n",
        "import torch.nn.functional as F\n",
        "\n",
        "from torchvision import datasets, transforms\n",
        "import torchvision"
      ],
      "execution_count": 7,
      "outputs": []
    },
    {
      "cell_type": "markdown",
      "metadata": {
        "id": "nOLoiGVlJGav"
      },
      "source": [
        "# <font style=\"color:blue\">1. CNN Model Architecture [10 Points]</font>\n",
        "\n",
        "You have to write the model code here. You can take reference from LeNet code.\n",
        "\n",
        "If you do not get higher accuracy, here are a few hints:\n",
        "- Try to add more convolutional layers to the architecture\n",
        "- Try to add more nodes in the layers.\n"
      ]
    },
    {
      "cell_type": "code",
      "metadata": {
        "id": "ZJygcZSaJGav"
      },
      "source": [
        "class MyModel(nn.Module):\n",
        "    def __init__(self):\n",
        "        super().__init__()\n",
        "\n",
        "        ### BEGIN SOLUTION\n",
        "                 # Convolution layers\n",
        "        self._body = nn.Sequential(\n",
        "            # First convolution layer\n",
        "            # input size = (), output size = (10,10)\n",
        "            nn.Conv2d(in_channels=3, out_channels=216, kernel_size=5),\n",
        "            nn.BatchNorm2d(216),\n",
        "            nn.ReLU(inplace=True),\n",
        "            nn.MaxPool2d(kernel_size=2),\n",
        "\n",
        "            # Second convolution layer\n",
        "            # input size = (14, 14), output size = (10, 10)\n",
        "            nn.Conv2d(in_channels=216, out_channels=512, kernel_size=5),\n",
        "            nn.BatchNorm2d(512),\n",
        "            nn.ReLU(inplace=True),\n",
        "            nn.MaxPool2d(kernel_size=2),\n",
        "            # output size = (5, 5)\n",
        "        )\n",
        "\n",
        "        # Fully connected layers\n",
        "        self._head = nn.Sequential(\n",
        "            # First fully connected layer\n",
        "            # in_features = total number of weight in last conv layer = 512 * 5 * 5\n",
        "            nn.Linear(in_features=512 * 5 * 5, out_features=480), \n",
        "            \n",
        "            # ReLU activation\n",
        "            nn.ReLU(inplace=True),\n",
        "            \n",
        "            # second fully connected layer\n",
        "            # in_features = output of last linear layer = 120 \n",
        "            nn.Linear(in_features=480, out_features=120), \n",
        "            \n",
        "            # ReLU activation\n",
        "            nn.ReLU(inplace=True),\n",
        "            \n",
        "            # Third fully connected layer. It is also output layer\n",
        "            # in_features = output of last linear layer = 120\n",
        "            nn.Linear(in_features=120, out_features=84),\n",
        "                        \n",
        "            # ReLU activation\n",
        "            nn.ReLU(inplace=True),\n",
        "            \n",
        "            # Forth fully connected layer. It is also output layer\n",
        "            # in_features = output of last linear layer = 84\n",
        "            # and out_features = number of classes = 10 (MNIST data 0-9)\n",
        "            nn.Linear(in_features=84, out_features=10)\n",
        "        )\n",
        "        \n",
        "        ### END SOLUTION\n",
        "        \n",
        "    def forward(self, x):\n",
        "        ### BEGIN SOLUTION\n",
        "        # apply feature extractor\n",
        "        x = self._body(x)\n",
        "        # flatten the output of conv layers\n",
        "        # dimension should be batch_size * number_of weights_in_last conv_layer\n",
        "        x = x.view(x.size()[0], -1)\n",
        "        # apply classification head\n",
        "        x = self._head(x)       \n",
        "        ### END SOLUTION\n",
        "        \n",
        "        return x"
      ],
      "execution_count": 8,
      "outputs": []
    },
    {
      "cell_type": "markdown",
      "metadata": {
        "id": "hq46PTjsJGaz",
        "nbgrader": {
          "grade": false,
          "locked": true,
          "solution": false
        }
      },
      "source": [
        "# <font style=\"color:blue\">2. Display the Network</font>"
      ]
    },
    {
      "cell_type": "code",
      "metadata": {
        "id": "SDEEFkVoJGa0",
        "nbgrader": {
          "grade": false,
          "locked": true,
          "solution": false
        },
        "colab": {
          "base_uri": "https://localhost:8080/"
        },
        "outputId": "a8249555-0b48-429c-a8e0-d3d771ecc4a5"
      },
      "source": [
        "my_model = MyModel()\n",
        "print(my_model)"
      ],
      "execution_count": 9,
      "outputs": [
        {
          "output_type": "stream",
          "name": "stdout",
          "text": [
            "MyModel(\n",
            "  (_body): Sequential(\n",
            "    (0): Conv2d(3, 216, kernel_size=(5, 5), stride=(1, 1))\n",
            "    (1): BatchNorm2d(216, eps=1e-05, momentum=0.1, affine=True, track_running_stats=True)\n",
            "    (2): ReLU(inplace=True)\n",
            "    (3): MaxPool2d(kernel_size=2, stride=2, padding=0, dilation=1, ceil_mode=False)\n",
            "    (4): Conv2d(216, 512, kernel_size=(5, 5), stride=(1, 1))\n",
            "    (5): BatchNorm2d(512, eps=1e-05, momentum=0.1, affine=True, track_running_stats=True)\n",
            "    (6): ReLU(inplace=True)\n",
            "    (7): MaxPool2d(kernel_size=2, stride=2, padding=0, dilation=1, ceil_mode=False)\n",
            "  )\n",
            "  (_head): Sequential(\n",
            "    (0): Linear(in_features=12800, out_features=480, bias=True)\n",
            "    (1): ReLU(inplace=True)\n",
            "    (2): Linear(in_features=480, out_features=120, bias=True)\n",
            "    (3): ReLU(inplace=True)\n",
            "    (4): Linear(in_features=120, out_features=84, bias=True)\n",
            "    (5): ReLU(inplace=True)\n",
            "    (6): Linear(in_features=84, out_features=10, bias=True)\n",
            "  )\n",
            ")\n"
          ]
        }
      ]
    },
    {
      "cell_type": "markdown",
      "metadata": {
        "id": "2qR75AnbJGa3",
        "lines_to_next_cell": 2,
        "nbgrader": {
          "grade": false,
          "locked": true,
          "solution": false
        }
      },
      "source": [
        "# <font style=\"color:blue\">3. Find Mean and STD of CIFAR10 Data [5 Points]</font>\n",
        "\n",
        "Function **`get_mean_std_train_data`** should `return` `mean` and `std` of training data. You can refer to the code used in the previous section for finding the mean and std of the training data.\n",
        "\n"
      ]
    },
    {
      "cell_type": "code",
      "metadata": {
        "id": "CW7B7G5cJGa4",
        "nbgrader": {
          "grade": false,
          "locked": false,
          "solution": false
        }
      },
      "source": [
        "def get_mean_std_train_data(data_root):\n",
        "    \n",
        "    train_transform = transforms.Compose([transforms.ToTensor()])\n",
        "    train_set = datasets.CIFAR10(root=data_root, train=True, download=True, transform=train_transform)\n",
        "    \n",
        "    # return mean (numpy.ndarray) and std (numpy.ndarray)\n",
        "    mean = np.array([0.5, 0.5, 0.5])\n",
        "    std = np.array([0.5, 0.5, 0.5])\n",
        "    \n",
        "    ### BEGIN SOLUTION\n",
        "    for data, _ in train_set:\n",
        "        mean = data.mean()\n",
        "        meansq = (data^2).mean()\n",
        "    std = torch.sqrt(meansq - mean^2)\n",
        "        \n",
        "    ### END SOLUTION\n",
        "    \n",
        "    return mean, std\n",
        "\n"
      ],
      "execution_count": 10,
      "outputs": []
    },
    {
      "cell_type": "code",
      "metadata": {
        "id": "zsnJTJNXJGa7",
        "nbgrader": {
          "grade": false,
          "locked": true,
          "solution": false
        }
      },
      "source": [
        "def get_data(batch_size, data_root, num_workers=1):\n",
        "    \n",
        "    \n",
        "    try:\n",
        "        mean, std = get_mean_std_train_data(data_root)\n",
        "        print('===========================================================mean value calculated is : ', mean)\n",
        "        print('===========================================================std  value calculated is : ', std)\n",
        "        assert len(mean) == len(std) == 3\n",
        "    except:\n",
        "        mean = np.array([0.5, 0.5, 0.5])\n",
        "        std = np.array([0.5, 0.5, 0.5])\n",
        "        \n",
        "    \n",
        "    train_test_transforms = transforms.Compose([\n",
        "        # this re-scale image tensor values between 0-1. image_tensor /= 255\n",
        "        transforms.ToTensor(),\n",
        "        # subtract mean and divide by variance.\n",
        "        transforms.Normalize(mean, std)\n",
        "    ])\n",
        "    \n",
        "    # train dataloader\n",
        "    train_loader = torch.utils.data.DataLoader(\n",
        "        datasets.CIFAR10(root=data_root, train=True, download=False, transform=train_test_transforms),\n",
        "        batch_size=batch_size,\n",
        "        shuffle=True,\n",
        "        num_workers=num_workers\n",
        "    )\n",
        "    \n",
        "    # test dataloader\n",
        "    test_loader = torch.utils.data.DataLoader(\n",
        "        datasets.CIFAR10(root=data_root, train=False, download=False, transform=train_test_transforms),\n",
        "        batch_size=batch_size,\n",
        "        shuffle=False,\n",
        "        num_workers=num_workers\n",
        "    )\n",
        "    return train_loader, test_loader"
      ],
      "execution_count": 11,
      "outputs": []
    },
    {
      "cell_type": "markdown",
      "metadata": {
        "id": "03-ZuoXfJGa-",
        "nbgrader": {
          "grade": false,
          "locked": true,
          "solution": false
        }
      },
      "source": [
        "# <font style=\"color:blue\">4. System Configuration</font>\n"
      ]
    },
    {
      "cell_type": "code",
      "metadata": {
        "id": "u4LsyamkJGa_",
        "nbgrader": {
          "grade": false,
          "locked": true,
          "solution": false
        }
      },
      "source": [
        "@dataclass\n",
        "class SystemConfiguration:\n",
        "    '''\n",
        "    Describes the common system setting needed for reproducible training\n",
        "    '''\n",
        "    seed: int = 42  # seed number to set the state of all random number generators\n",
        "    cudnn_benchmark_enabled: bool = True  # enable CuDNN benchmark for the sake of performance\n",
        "    cudnn_deterministic: bool = True  # make cudnn deterministic (reproducible training)"
      ],
      "execution_count": 12,
      "outputs": []
    },
    {
      "cell_type": "markdown",
      "metadata": {
        "id": "HIIgMKe8JGbC",
        "nbgrader": {
          "grade": false,
          "locked": true,
          "solution": false
        }
      },
      "source": [
        "# <font style=\"color:blue\">5. Training Configuration [15 Points]</font>\n",
        "All training parameters are defined here. So, \n",
        "This is where you can improve your accuracy, apart from improving the architecture. \n",
        "\n",
        "Here are a few hints on how you can improve the accuracy:\n",
        "- Train for longer duration\n",
        "- Try with different learning rate\n",
        "\n",
        "**You need to achieve 75% accuracy in order to get full marks for this part.**\n",
        "\n",
        "**You will see the effect of these changes when you run Step 11**"
      ]
    },
    {
      "cell_type": "code",
      "metadata": {
        "id": "8qESDffIJGbD",
        "nbgrader": {
          "grade": false,
          "locked": false,
          "solution": false
        }
      },
      "source": [
        "@dataclass\n",
        "class TrainingConfiguration:\n",
        "    '''\n",
        "    Describes configuration of the training process\n",
        "    '''\n",
        "    batch_size: int = 16  # amount of data to pass through the network at each forward-backward iteration\n",
        "    epochs_count: int = 15  # number of times the whole dataset will be passed through the network\n",
        "    learning_rate: float = 0.01  # determines the speed of network's weights update\n",
        "        \n",
        "    log_interval: int = 100  # how many batches to wait between logging training status\n",
        "    test_interval: int = 1  # how many epochs to wait before another test. Set to 1 to get val loss at each epoch\n",
        "    data_root: str = \"./\"  # folder to save data\n",
        "    num_workers: int = 2  # number of concurrent processes using to prepare data\n",
        "    device: str = 'cuda'  # device to use for training.\n",
        "    # update changed parameters in blow coding block.\n",
        "    # Please do not change \"data_root\" \n",
        "    \n",
        "    ### BEGIN SOLUTION\n",
        "    \n",
        "    ### END SOLUTION\n"
      ],
      "execution_count": 13,
      "outputs": []
    },
    {
      "cell_type": "markdown",
      "metadata": {
        "id": "ZAQE-iZMJGbG",
        "nbgrader": {
          "grade": false,
          "locked": true,
          "solution": false
        }
      },
      "source": [
        "# <font style=\"color:blue\">6. System Setup</font>\n"
      ]
    },
    {
      "cell_type": "code",
      "metadata": {
        "id": "wdl_GzCqJGbG",
        "nbgrader": {
          "grade": false,
          "locked": true,
          "solution": false
        }
      },
      "source": [
        "def setup_system(system_config: SystemConfiguration) -> None:\n",
        "    torch.manual_seed(system_config.seed)\n",
        "    if torch.cuda.is_available():\n",
        "        torch.backends.cudnn_benchmark_enabled = system_config.cudnn_benchmark_enabled\n",
        "        torch.backends.cudnn.deterministic = system_config.cudnn_deterministic"
      ],
      "execution_count": 14,
      "outputs": []
    },
    {
      "cell_type": "markdown",
      "metadata": {
        "id": "R3OIPd3IJGbJ",
        "nbgrader": {
          "grade": false,
          "locked": true,
          "solution": false
        }
      },
      "source": [
        "# <font style=\"color:blue\">7. Training</font>\n",
        "We are familiar with the training pipeline used in PyTorch. The following steps are performed in the code below:\n",
        "\n",
        "1. Send the data to the required device ( CPU/GPU )\n",
        "1. Make a forward pass using the forward method.\n",
        "1. Find the loss using the Cross_Entropy function.\n",
        "1. Find the gradients using the backward function.\n",
        "1. Update the weights using the optimizer.\n",
        "1. Find the accuracy of the model\n",
        "\n",
        "Repeat the above for the specified number of epochs."
      ]
    },
    {
      "cell_type": "code",
      "metadata": {
        "id": "6EEHzywxJGbK",
        "nbgrader": {
          "grade": false,
          "locked": true,
          "solution": false
        }
      },
      "source": [
        "def train(\n",
        "    train_config: TrainingConfiguration, model: nn.Module, optimizer: torch.optim.Optimizer,\n",
        "    train_loader: torch.utils.data.DataLoader, epoch_idx: int\n",
        ") -> None:\n",
        "    \n",
        "    # change model in training mood\n",
        "    model.train()\n",
        "    \n",
        "    # to get batch loss\n",
        "    batch_loss = np.array([])\n",
        "    \n",
        "    # to get batch accuracy\n",
        "    batch_acc = np.array([])\n",
        "        \n",
        "    for batch_idx, (data, target) in enumerate(train_loader):\n",
        "        \n",
        "        # clone target\n",
        "        indx_target = target.clone()\n",
        "        # send data to device (its is medatory if GPU has to be used)\n",
        "        data = data.to(train_config.device)\n",
        "        # send target to device\n",
        "        target = target.to(train_config.device)\n",
        "\n",
        "        # reset parameters gradient to zero\n",
        "        optimizer.zero_grad()\n",
        "        \n",
        "        # forward pass to the model\n",
        "        output = model(data)\n",
        "        \n",
        "        # cross entropy loss\n",
        "        loss = F.cross_entropy(output, target)\n",
        "        \n",
        "        # find gradients w.r.t training parameters\n",
        "        loss.backward()\n",
        "        # Update parameters using gardients\n",
        "        optimizer.step()\n",
        "        \n",
        "        batch_loss = np.append(batch_loss, [loss.item()])\n",
        "        \n",
        "        # Score to probability using softmax\n",
        "        prob = F.softmax(output, dim=1)\n",
        "            \n",
        "        # get the index of the max probability\n",
        "        pred = prob.data.max(dim=1)[1]  \n",
        "                        \n",
        "        # correct prediction\n",
        "        correct = pred.cpu().eq(indx_target).sum()\n",
        "            \n",
        "        # accuracy\n",
        "        acc = float(correct) / float(len(data))\n",
        "        \n",
        "        batch_acc = np.append(batch_acc, [acc])\n",
        "\n",
        "        if batch_idx % train_config.log_interval == 0 and batch_idx > 0:              \n",
        "            print(\n",
        "                'Train Epoch: {} [{}/{}] Loss: {:.6f} Acc: {:.4f}'.format(\n",
        "                    epoch_idx, batch_idx * len(data), len(train_loader.dataset), loss.item(), acc\n",
        "                )\n",
        "            )\n",
        "            \n",
        "    epoch_loss = batch_loss.mean()\n",
        "    epoch_acc = batch_acc.mean()\n",
        "    return epoch_loss, epoch_acc"
      ],
      "execution_count": 15,
      "outputs": []
    },
    {
      "cell_type": "markdown",
      "metadata": {
        "id": "HQD5e4MvJGbN",
        "nbgrader": {
          "grade": false,
          "locked": true,
          "solution": false
        }
      },
      "source": [
        "# <font style=\"color:blue\">8. Validation</font>\n",
        "\n",
        "After every few epochs **`validation`** will be called with the `trained model` and `test_loader` to get validation loss and accuracy."
      ]
    },
    {
      "cell_type": "code",
      "metadata": {
        "id": "xfYIabotJGbO",
        "nbgrader": {
          "grade": false,
          "locked": true,
          "solution": false
        }
      },
      "source": [
        "def validate(\n",
        "    train_config: TrainingConfiguration,\n",
        "    model: nn.Module,\n",
        "    test_loader: torch.utils.data.DataLoader,\n",
        ") -> float:\n",
        "    model.eval()\n",
        "    test_loss = 0\n",
        "    count_corect_predictions = 0\n",
        "    for data, target in test_loader:\n",
        "        indx_target = target.clone()\n",
        "        data = data.to(train_config.device)\n",
        "        \n",
        "        target = target.to(train_config.device)\n",
        "        \n",
        "        output = model(data)\n",
        "        # add loss for each mini batch\n",
        "        test_loss += F.cross_entropy(output, target).item()\n",
        "        \n",
        "        # Score to probability using softmax\n",
        "        prob = F.softmax(output, dim=1)\n",
        "        \n",
        "        # get the index of the max probability\n",
        "        pred = prob.data.max(dim=1)[1] \n",
        "        \n",
        "        # add correct prediction count\n",
        "        count_corect_predictions += pred.cpu().eq(indx_target).sum()\n",
        "\n",
        "    # average over number of mini-batches\n",
        "    test_loss = test_loss / len(test_loader)  \n",
        "    \n",
        "    # average over number of dataset\n",
        "    accuracy = 100. * count_corect_predictions / len(test_loader.dataset)\n",
        "    \n",
        "    print(\n",
        "        '\\nTest set: Average loss: {:.4f}, Accuracy: {}/{} ({:.0f}%)\\n'.format(\n",
        "            test_loss, count_corect_predictions, len(test_loader.dataset), accuracy\n",
        "        )\n",
        "    )\n",
        "    return test_loss, accuracy/100.0"
      ],
      "execution_count": 16,
      "outputs": []
    },
    {
      "cell_type": "markdown",
      "metadata": {
        "id": "kllVaLMYJGbV",
        "nbgrader": {
          "grade": false,
          "locked": true,
          "solution": false
        }
      },
      "source": [
        "# <font style=\"color:blue\">9. Saving the Model</font>"
      ]
    },
    {
      "cell_type": "code",
      "metadata": {
        "id": "nX_5qui4JGbW",
        "nbgrader": {
          "grade": false,
          "locked": true,
          "solution": false
        }
      },
      "source": [
        "def save_model(model, device, model_dir='models', model_file_name='cifar10_cnn_model.pt'):\n",
        "    \n",
        "\n",
        "    if not os.path.exists(model_dir):\n",
        "        os.makedirs(model_dir)\n",
        "\n",
        "    model_path = os.path.join(model_dir, model_file_name)\n",
        "\n",
        "    # make sure you transfer the model to cpu.\n",
        "    if device == 'cuda':\n",
        "        model.to('cpu')\n",
        "\n",
        "    # save the state_dict\n",
        "    torch.save(model.state_dict(), model_path)\n",
        "    \n",
        "    if device == 'cuda':\n",
        "        model.to('cuda')\n",
        "    \n",
        "    return"
      ],
      "execution_count": 17,
      "outputs": []
    },
    {
      "cell_type": "markdown",
      "metadata": {
        "id": "eb-Z4XiHJGbZ",
        "nbgrader": {
          "grade": false,
          "locked": true,
          "solution": false
        }
      },
      "source": [
        "# <font style=\"color:blue\">10. Main</font>\n",
        "\n",
        "In this section of code, we use the configuration parameters defined above and start the training. Here are the important actions being taken in the code below:\n",
        "\n",
        "1. Set up system parameters like CPU/GPU, number of threads etc\n",
        "1. Load the data using dataloaders\n",
        "1. Create an instance of the LeNet model\n",
        "1. Specify optimizer to use.\n",
        "1. Set up variables to track loss and accuracy and start training.\n",
        "1. If loss decreases, saving the model"
      ]
    },
    {
      "cell_type": "code",
      "metadata": {
        "id": "iOKDxgpfJGbZ",
        "nbgrader": {
          "grade": false,
          "locked": true,
          "solution": false
        }
      },
      "source": [
        "def main(system_configuration=SystemConfiguration(), training_configuration=TrainingConfiguration()):\n",
        "    \n",
        "    # system configuration\n",
        "    setup_system(system_configuration)\n",
        "\n",
        "    # batch size\n",
        "    batch_size_to_set = training_configuration.batch_size\n",
        "    # num_workers\n",
        "    num_workers_to_set = training_configuration.num_workers\n",
        "    # epochs\n",
        "    epoch_num_to_set = training_configuration.epochs_count\n",
        "\n",
        "    # if GPU is available use training config, \n",
        "    # else lowers batch_size, num_workers and epochs count\n",
        "    if torch.cuda.is_available():\n",
        "        device = \"cuda\"\n",
        "    else:\n",
        "        device = \"cpu\"\n",
        "        num_workers_to_set = 2\n",
        "\n",
        "    # data loader\n",
        "    train_loader, test_loader = get_data(\n",
        "        batch_size=training_configuration.batch_size,\n",
        "        data_root=training_configuration.data_root,\n",
        "        num_workers=num_workers_to_set\n",
        "    )\n",
        "    \n",
        "    # Update training configuration\n",
        "    training_configuration = TrainingConfiguration(\n",
        "        device=device,\n",
        "        num_workers=num_workers_to_set\n",
        "    )\n",
        "\n",
        "    # initiate model\n",
        "    model = MyModel()\n",
        "\n",
        "    print(\"Training on {}\".format(training_configuration.device))\n",
        "        \n",
        "    # send model to device (GPU/CPU)\n",
        "    model.to(training_configuration.device)\n",
        "\n",
        "    # optimizer\n",
        "    optimizer = optim.SGD(\n",
        "        model.parameters(),\n",
        "        lr=training_configuration.learning_rate\n",
        "    )\n",
        "\n",
        "    best_loss = torch.tensor(np.inf)\n",
        "    best_accuracy = torch.tensor(0)\n",
        "    \n",
        "    # epoch train/test loss\n",
        "    epoch_train_loss = np.array([])\n",
        "    epoch_test_loss = np.array([])\n",
        "    \n",
        "    # epch train/test accuracy\n",
        "    epoch_train_acc = np.array([])\n",
        "    epoch_test_acc = np.array([])\n",
        "    \n",
        "    # trainig time measurement\n",
        "    t_begin = time.time()\n",
        "    for epoch in range(training_configuration.epochs_count):\n",
        "        \n",
        "        train_loss, train_acc = train(training_configuration, model, optimizer, train_loader, epoch)\n",
        "        \n",
        "        epoch_train_loss = np.append(epoch_train_loss, [train_loss])\n",
        "        \n",
        "        epoch_train_acc = np.append(epoch_train_acc, [train_acc])\n",
        "\n",
        "        elapsed_time = time.time() - t_begin\n",
        "        speed_epoch = elapsed_time / (epoch + 1)\n",
        "        speed_batch = speed_epoch / len(train_loader)\n",
        "        eta = speed_epoch * training_configuration.epochs_count - elapsed_time\n",
        "        \n",
        "        print(\n",
        "            \"Elapsed {:.2f}s, {:.2f} s/epoch, {:.2f} s/batch, ets {:.2f}s\".format(\n",
        "                elapsed_time, speed_epoch, speed_batch, eta\n",
        "            )\n",
        "        )\n",
        "\n",
        "        if epoch % training_configuration.test_interval == 0:\n",
        "            current_loss, current_accuracy = validate(training_configuration, model, test_loader)\n",
        "            \n",
        "            epoch_test_loss = np.append(epoch_test_loss, [current_loss])\n",
        "        \n",
        "            epoch_test_acc = np.append(epoch_test_acc, [current_accuracy])\n",
        "            \n",
        "            if current_loss < best_loss:\n",
        "                best_loss = current_loss\n",
        "            \n",
        "            if current_accuracy > best_accuracy:\n",
        "                best_accuracy = current_accuracy\n",
        "                print('Accuracy improved, saving the model.\\n')\n",
        "                save_model(model, device)\n",
        "            \n",
        "                \n",
        "    print(\"Total time: {:.2f}, Best Loss: {:.3f}, Best Accuracy: {:.3f}\".format(time.time() - t_begin, best_loss, \n",
        "                                                                                best_accuracy))\n",
        "    \n",
        "    return model, epoch_train_loss, epoch_train_acc, epoch_test_loss, epoch_test_acc"
      ],
      "execution_count": 18,
      "outputs": []
    },
    {
      "cell_type": "markdown",
      "metadata": {
        "id": "zll4UE--JGbd"
      },
      "source": [
        "# <font style=\"color:blue\">Step 11: Start Training</font>\n",
        "This is where you start the training. You may see that the training does not converge or does not give a good accuracy. You need to change \n",
        "- In Step 1: the network architecture and add a few more layers or more nodes to the already existing layers\n",
        "- In Step 5: training parameters such as learning rate or batch_size or epochs so that the network converges or run the network for longer so that it gets more time to fit the data\n",
        "\n",
        "**You need to make sure that the accuracy at the end is at least 75%.**"
      ]
    },
    {
      "cell_type": "code",
      "metadata": {
        "id": "X13F4qQCJGbe",
        "nbgrader": {
          "grade": false,
          "locked": true,
          "solution": false
        },
        "scrolled": true,
        "colab": {
          "base_uri": "https://localhost:8080/",
          "height": 1000,
          "referenced_widgets": [
            "7e3077efdbf049da999664bf60dc64a0",
            "4c3f40edd07a4573993da4db83b554f4",
            "684c255b063b49c1a19cb488dc8d3f48",
            "2601bd3afb454dfca6ee354353326357",
            "2fa341e475bb4f16b81f64b22263b9e6",
            "862c25f8ada6401e8051217ea6da5e04",
            "af9bc835448543d5bd1b4cdfd597302d",
            "722636ef55b6474f947b458b1a203273",
            "478b0c64c95246a7bf28db38f9175b22",
            "901c54d087fe4e0d8cd41d5d5f2e5351",
            "575c05d0c47f4b88937dc298696a70cc"
          ]
        },
        "outputId": "60d2a798-c2e5-48c7-9bbc-5d1054773f87"
      },
      "source": [
        "if required_training:\n",
        "    model, epoch_train_loss, epoch_train_acc, epoch_test_loss, epoch_test_acc = main()"
      ],
      "execution_count": 19,
      "outputs": [
        {
          "output_type": "stream",
          "name": "stdout",
          "text": [
            "Downloading https://www.cs.toronto.edu/~kriz/cifar-10-python.tar.gz to ./cifar-10-python.tar.gz\n"
          ]
        },
        {
          "output_type": "display_data",
          "data": {
            "text/plain": [
              "  0%|          | 0/170498071 [00:00<?, ?it/s]"
            ],
            "application/vnd.jupyter.widget-view+json": {
              "version_major": 2,
              "version_minor": 0,
              "model_id": "7e3077efdbf049da999664bf60dc64a0"
            }
          },
          "metadata": {}
        },
        {
          "output_type": "stream",
          "name": "stdout",
          "text": [
            "Extracting ./cifar-10-python.tar.gz to ./\n",
            "Training on cuda\n",
            "Train Epoch: 0 [1600/50000] Loss: 2.120175 Acc: 0.2500\n",
            "Train Epoch: 0 [3200/50000] Loss: 1.526662 Acc: 0.5625\n",
            "Train Epoch: 0 [4800/50000] Loss: 1.874991 Acc: 0.3125\n",
            "Train Epoch: 0 [6400/50000] Loss: 1.649321 Acc: 0.3750\n",
            "Train Epoch: 0 [8000/50000] Loss: 1.428862 Acc: 0.5000\n",
            "Train Epoch: 0 [9600/50000] Loss: 1.503016 Acc: 0.5000\n",
            "Train Epoch: 0 [11200/50000] Loss: 1.156557 Acc: 0.6250\n",
            "Train Epoch: 0 [12800/50000] Loss: 1.603201 Acc: 0.3125\n",
            "Train Epoch: 0 [14400/50000] Loss: 1.344249 Acc: 0.6250\n",
            "Train Epoch: 0 [16000/50000] Loss: 2.090364 Acc: 0.3125\n",
            "Train Epoch: 0 [17600/50000] Loss: 1.405004 Acc: 0.5000\n",
            "Train Epoch: 0 [19200/50000] Loss: 1.387058 Acc: 0.5000\n",
            "Train Epoch: 0 [20800/50000] Loss: 0.938846 Acc: 0.7500\n",
            "Train Epoch: 0 [22400/50000] Loss: 0.832805 Acc: 0.6250\n",
            "Train Epoch: 0 [24000/50000] Loss: 1.696406 Acc: 0.5000\n",
            "Train Epoch: 0 [25600/50000] Loss: 1.425818 Acc: 0.5625\n",
            "Train Epoch: 0 [27200/50000] Loss: 1.193820 Acc: 0.6250\n",
            "Train Epoch: 0 [28800/50000] Loss: 1.285131 Acc: 0.5625\n",
            "Train Epoch: 0 [30400/50000] Loss: 1.378152 Acc: 0.6250\n",
            "Train Epoch: 0 [32000/50000] Loss: 0.930574 Acc: 0.6250\n",
            "Train Epoch: 0 [33600/50000] Loss: 1.051814 Acc: 0.6250\n",
            "Train Epoch: 0 [35200/50000] Loss: 1.160791 Acc: 0.5625\n",
            "Train Epoch: 0 [36800/50000] Loss: 1.457162 Acc: 0.2500\n",
            "Train Epoch: 0 [38400/50000] Loss: 1.413604 Acc: 0.5000\n",
            "Train Epoch: 0 [40000/50000] Loss: 1.543670 Acc: 0.5000\n",
            "Train Epoch: 0 [41600/50000] Loss: 0.783571 Acc: 0.7500\n",
            "Train Epoch: 0 [43200/50000] Loss: 0.931836 Acc: 0.7500\n",
            "Train Epoch: 0 [44800/50000] Loss: 1.628767 Acc: 0.3750\n",
            "Train Epoch: 0 [46400/50000] Loss: 1.048677 Acc: 0.6875\n",
            "Train Epoch: 0 [48000/50000] Loss: 0.752931 Acc: 0.7500\n",
            "Train Epoch: 0 [49600/50000] Loss: 1.393042 Acc: 0.5000\n",
            "Elapsed 106.00s, 106.00 s/epoch, 0.03 s/batch, ets 1484.02s\n",
            "\n",
            "Test set: Average loss: 1.0972, Accuracy: 6071/10000 (61%)\n",
            "\n",
            "Accuracy improved, saving the model.\n",
            "\n",
            "Train Epoch: 1 [1600/50000] Loss: 1.003865 Acc: 0.6250\n",
            "Train Epoch: 1 [3200/50000] Loss: 1.244657 Acc: 0.5000\n",
            "Train Epoch: 1 [4800/50000] Loss: 0.617092 Acc: 0.7500\n",
            "Train Epoch: 1 [6400/50000] Loss: 1.120188 Acc: 0.6875\n",
            "Train Epoch: 1 [8000/50000] Loss: 0.974090 Acc: 0.6250\n",
            "Train Epoch: 1 [9600/50000] Loss: 0.874745 Acc: 0.6875\n",
            "Train Epoch: 1 [11200/50000] Loss: 1.222235 Acc: 0.5625\n",
            "Train Epoch: 1 [12800/50000] Loss: 1.167935 Acc: 0.6875\n",
            "Train Epoch: 1 [14400/50000] Loss: 1.163013 Acc: 0.5625\n",
            "Train Epoch: 1 [16000/50000] Loss: 1.455754 Acc: 0.6250\n",
            "Train Epoch: 1 [17600/50000] Loss: 1.105121 Acc: 0.6875\n",
            "Train Epoch: 1 [19200/50000] Loss: 0.972058 Acc: 0.5625\n",
            "Train Epoch: 1 [20800/50000] Loss: 1.732381 Acc: 0.5000\n",
            "Train Epoch: 1 [22400/50000] Loss: 1.106534 Acc: 0.6250\n",
            "Train Epoch: 1 [24000/50000] Loss: 1.018459 Acc: 0.6250\n",
            "Train Epoch: 1 [25600/50000] Loss: 0.889782 Acc: 0.7500\n",
            "Train Epoch: 1 [27200/50000] Loss: 1.570652 Acc: 0.3750\n",
            "Train Epoch: 1 [28800/50000] Loss: 1.097208 Acc: 0.6250\n",
            "Train Epoch: 1 [30400/50000] Loss: 1.043282 Acc: 0.6250\n",
            "Train Epoch: 1 [32000/50000] Loss: 1.343821 Acc: 0.4375\n",
            "Train Epoch: 1 [33600/50000] Loss: 0.886838 Acc: 0.7500\n",
            "Train Epoch: 1 [35200/50000] Loss: 0.820856 Acc: 0.6875\n",
            "Train Epoch: 1 [36800/50000] Loss: 0.888500 Acc: 0.7500\n",
            "Train Epoch: 1 [38400/50000] Loss: 1.131291 Acc: 0.5000\n",
            "Train Epoch: 1 [40000/50000] Loss: 0.679190 Acc: 0.6250\n",
            "Train Epoch: 1 [41600/50000] Loss: 0.973551 Acc: 0.6250\n",
            "Train Epoch: 1 [43200/50000] Loss: 0.892381 Acc: 0.6250\n",
            "Train Epoch: 1 [44800/50000] Loss: 0.726524 Acc: 0.7500\n",
            "Train Epoch: 1 [46400/50000] Loss: 1.039349 Acc: 0.5625\n",
            "Train Epoch: 1 [48000/50000] Loss: 0.802235 Acc: 0.7500\n",
            "Train Epoch: 1 [49600/50000] Loss: 0.917027 Acc: 0.7500\n",
            "Elapsed 218.93s, 109.46 s/epoch, 0.04 s/batch, ets 1423.03s\n",
            "\n",
            "Test set: Average loss: 0.9570, Accuracy: 6661/10000 (67%)\n",
            "\n",
            "Accuracy improved, saving the model.\n",
            "\n",
            "Train Epoch: 2 [1600/50000] Loss: 1.843803 Acc: 0.4375\n",
            "Train Epoch: 2 [3200/50000] Loss: 1.273537 Acc: 0.5625\n",
            "Train Epoch: 2 [4800/50000] Loss: 0.942225 Acc: 0.6875\n",
            "Train Epoch: 2 [6400/50000] Loss: 1.014011 Acc: 0.6875\n",
            "Train Epoch: 2 [8000/50000] Loss: 0.710122 Acc: 0.6875\n",
            "Train Epoch: 2 [9600/50000] Loss: 0.980825 Acc: 0.6250\n",
            "Train Epoch: 2 [11200/50000] Loss: 0.805831 Acc: 0.6250\n",
            "Train Epoch: 2 [12800/50000] Loss: 0.490802 Acc: 0.8125\n",
            "Train Epoch: 2 [14400/50000] Loss: 0.817528 Acc: 0.7500\n",
            "Train Epoch: 2 [16000/50000] Loss: 0.575122 Acc: 0.7500\n",
            "Train Epoch: 2 [17600/50000] Loss: 0.494333 Acc: 0.8125\n",
            "Train Epoch: 2 [19200/50000] Loss: 1.158214 Acc: 0.5625\n",
            "Train Epoch: 2 [20800/50000] Loss: 0.506368 Acc: 0.8750\n",
            "Train Epoch: 2 [22400/50000] Loss: 0.839072 Acc: 0.7500\n",
            "Train Epoch: 2 [24000/50000] Loss: 0.405570 Acc: 0.8750\n",
            "Train Epoch: 2 [25600/50000] Loss: 0.827412 Acc: 0.6875\n",
            "Train Epoch: 2 [27200/50000] Loss: 0.923429 Acc: 0.5625\n",
            "Train Epoch: 2 [28800/50000] Loss: 0.793733 Acc: 0.7500\n",
            "Train Epoch: 2 [30400/50000] Loss: 1.100594 Acc: 0.6875\n",
            "Train Epoch: 2 [32000/50000] Loss: 0.876855 Acc: 0.6875\n",
            "Train Epoch: 2 [33600/50000] Loss: 0.844360 Acc: 0.7500\n",
            "Train Epoch: 2 [35200/50000] Loss: 1.104730 Acc: 0.6250\n",
            "Train Epoch: 2 [36800/50000] Loss: 0.930055 Acc: 0.6250\n",
            "Train Epoch: 2 [38400/50000] Loss: 0.624136 Acc: 0.7500\n",
            "Train Epoch: 2 [40000/50000] Loss: 1.356387 Acc: 0.4375\n",
            "Train Epoch: 2 [41600/50000] Loss: 0.582011 Acc: 0.8125\n",
            "Train Epoch: 2 [43200/50000] Loss: 0.770815 Acc: 0.6250\n",
            "Train Epoch: 2 [44800/50000] Loss: 0.365141 Acc: 1.0000\n",
            "Train Epoch: 2 [46400/50000] Loss: 0.757181 Acc: 0.7500\n",
            "Train Epoch: 2 [48000/50000] Loss: 0.782902 Acc: 0.6875\n",
            "Train Epoch: 2 [49600/50000] Loss: 0.781052 Acc: 0.8750\n",
            "Elapsed 331.98s, 110.66 s/epoch, 0.04 s/batch, ets 1327.92s\n",
            "\n",
            "Test set: Average loss: 0.8240, Accuracy: 7119/10000 (71%)\n",
            "\n",
            "Accuracy improved, saving the model.\n",
            "\n",
            "Train Epoch: 3 [1600/50000] Loss: 1.141911 Acc: 0.6875\n",
            "Train Epoch: 3 [3200/50000] Loss: 0.810354 Acc: 0.7500\n",
            "Train Epoch: 3 [4800/50000] Loss: 0.876561 Acc: 0.8125\n",
            "Train Epoch: 3 [6400/50000] Loss: 0.348985 Acc: 0.8750\n",
            "Train Epoch: 3 [8000/50000] Loss: 0.437504 Acc: 0.8750\n",
            "Train Epoch: 3 [9600/50000] Loss: 0.627490 Acc: 0.8750\n",
            "Train Epoch: 3 [11200/50000] Loss: 0.680984 Acc: 0.8125\n",
            "Train Epoch: 3 [12800/50000] Loss: 0.619165 Acc: 0.8750\n",
            "Train Epoch: 3 [14400/50000] Loss: 0.680680 Acc: 0.8125\n",
            "Train Epoch: 3 [16000/50000] Loss: 0.479115 Acc: 0.8750\n",
            "Train Epoch: 3 [17600/50000] Loss: 0.467716 Acc: 0.8750\n",
            "Train Epoch: 3 [19200/50000] Loss: 1.079132 Acc: 0.6250\n",
            "Train Epoch: 3 [20800/50000] Loss: 1.305779 Acc: 0.7500\n",
            "Train Epoch: 3 [22400/50000] Loss: 0.286979 Acc: 1.0000\n",
            "Train Epoch: 3 [24000/50000] Loss: 0.804010 Acc: 0.8125\n",
            "Train Epoch: 3 [25600/50000] Loss: 0.665547 Acc: 0.7500\n",
            "Train Epoch: 3 [27200/50000] Loss: 0.579832 Acc: 0.7500\n",
            "Train Epoch: 3 [28800/50000] Loss: 0.567891 Acc: 0.8125\n",
            "Train Epoch: 3 [30400/50000] Loss: 0.474522 Acc: 0.8125\n",
            "Train Epoch: 3 [32000/50000] Loss: 0.917320 Acc: 0.6875\n",
            "Train Epoch: 3 [33600/50000] Loss: 1.190373 Acc: 0.6250\n",
            "Train Epoch: 3 [35200/50000] Loss: 0.570563 Acc: 0.8750\n",
            "Train Epoch: 3 [36800/50000] Loss: 1.480061 Acc: 0.5625\n",
            "Train Epoch: 3 [38400/50000] Loss: 0.420012 Acc: 0.8750\n",
            "Train Epoch: 3 [40000/50000] Loss: 0.462803 Acc: 0.8750\n",
            "Train Epoch: 3 [41600/50000] Loss: 0.466992 Acc: 0.8125\n",
            "Train Epoch: 3 [43200/50000] Loss: 0.352434 Acc: 0.8750\n",
            "Train Epoch: 3 [44800/50000] Loss: 0.586179 Acc: 0.7500\n",
            "Train Epoch: 3 [46400/50000] Loss: 0.781517 Acc: 0.6875\n",
            "Train Epoch: 3 [48000/50000] Loss: 0.224453 Acc: 1.0000\n",
            "Train Epoch: 3 [49600/50000] Loss: 0.608129 Acc: 0.8125\n",
            "Elapsed 444.87s, 111.22 s/epoch, 0.04 s/batch, ets 1223.38s\n",
            "\n",
            "Test set: Average loss: 0.8859, Accuracy: 6958/10000 (70%)\n",
            "\n",
            "Train Epoch: 4 [1600/50000] Loss: 0.574900 Acc: 0.8125\n",
            "Train Epoch: 4 [3200/50000] Loss: 1.476243 Acc: 0.5000\n",
            "Train Epoch: 4 [4800/50000] Loss: 0.803942 Acc: 0.7500\n",
            "Train Epoch: 4 [6400/50000] Loss: 0.685738 Acc: 0.8750\n",
            "Train Epoch: 4 [8000/50000] Loss: 0.707859 Acc: 0.7500\n",
            "Train Epoch: 4 [9600/50000] Loss: 1.039008 Acc: 0.6250\n",
            "Train Epoch: 4 [11200/50000] Loss: 0.625615 Acc: 0.8125\n",
            "Train Epoch: 4 [12800/50000] Loss: 0.863157 Acc: 0.6875\n",
            "Train Epoch: 4 [14400/50000] Loss: 0.716132 Acc: 0.8125\n",
            "Train Epoch: 4 [16000/50000] Loss: 0.867961 Acc: 0.6250\n",
            "Train Epoch: 4 [17600/50000] Loss: 0.337318 Acc: 0.8750\n",
            "Train Epoch: 4 [19200/50000] Loss: 0.550269 Acc: 0.7500\n",
            "Train Epoch: 4 [20800/50000] Loss: 0.463339 Acc: 0.7500\n",
            "Train Epoch: 4 [22400/50000] Loss: 0.686337 Acc: 0.7500\n",
            "Train Epoch: 4 [24000/50000] Loss: 1.240292 Acc: 0.5000\n",
            "Train Epoch: 4 [25600/50000] Loss: 0.579816 Acc: 0.8125\n",
            "Train Epoch: 4 [27200/50000] Loss: 0.428765 Acc: 0.8750\n",
            "Train Epoch: 4 [28800/50000] Loss: 0.674515 Acc: 0.7500\n",
            "Train Epoch: 4 [30400/50000] Loss: 0.316284 Acc: 1.0000\n",
            "Train Epoch: 4 [32000/50000] Loss: 0.583323 Acc: 0.8125\n",
            "Train Epoch: 4 [33600/50000] Loss: 0.393688 Acc: 0.8125\n",
            "Train Epoch: 4 [35200/50000] Loss: 0.265106 Acc: 0.9375\n",
            "Train Epoch: 4 [36800/50000] Loss: 0.541964 Acc: 0.8125\n",
            "Train Epoch: 4 [38400/50000] Loss: 0.573601 Acc: 0.6875\n",
            "Train Epoch: 4 [40000/50000] Loss: 0.540319 Acc: 0.8125\n",
            "Train Epoch: 4 [41600/50000] Loss: 0.392763 Acc: 0.9375\n",
            "Train Epoch: 4 [43200/50000] Loss: 0.329558 Acc: 0.8125\n",
            "Train Epoch: 4 [44800/50000] Loss: 0.503931 Acc: 0.8750\n",
            "Train Epoch: 4 [46400/50000] Loss: 0.425648 Acc: 0.8125\n",
            "Train Epoch: 4 [48000/50000] Loss: 0.809551 Acc: 0.6250\n",
            "Train Epoch: 4 [49600/50000] Loss: 0.402081 Acc: 0.8750\n",
            "Elapsed 557.69s, 111.54 s/epoch, 0.04 s/batch, ets 1115.38s\n",
            "\n",
            "Test set: Average loss: 0.7304, Accuracy: 7437/10000 (74%)\n",
            "\n",
            "Accuracy improved, saving the model.\n",
            "\n",
            "Train Epoch: 5 [1600/50000] Loss: 0.426738 Acc: 0.8125\n",
            "Train Epoch: 5 [3200/50000] Loss: 0.731882 Acc: 0.6875\n",
            "Train Epoch: 5 [4800/50000] Loss: 0.809001 Acc: 0.6875\n",
            "Train Epoch: 5 [6400/50000] Loss: 0.740911 Acc: 0.6875\n",
            "Train Epoch: 5 [8000/50000] Loss: 0.585241 Acc: 0.8125\n",
            "Train Epoch: 5 [9600/50000] Loss: 0.464012 Acc: 0.8750\n",
            "Train Epoch: 5 [11200/50000] Loss: 0.431489 Acc: 0.8125\n",
            "Train Epoch: 5 [12800/50000] Loss: 0.653441 Acc: 0.8125\n",
            "Train Epoch: 5 [14400/50000] Loss: 0.432204 Acc: 0.8125\n",
            "Train Epoch: 5 [16000/50000] Loss: 0.284866 Acc: 0.9375\n",
            "Train Epoch: 5 [17600/50000] Loss: 0.830037 Acc: 0.6875\n",
            "Train Epoch: 5 [19200/50000] Loss: 0.504041 Acc: 0.8750\n",
            "Train Epoch: 5 [20800/50000] Loss: 0.949159 Acc: 0.8125\n",
            "Train Epoch: 5 [22400/50000] Loss: 0.206450 Acc: 0.9375\n",
            "Train Epoch: 5 [24000/50000] Loss: 0.406017 Acc: 0.8750\n",
            "Train Epoch: 5 [25600/50000] Loss: 0.343697 Acc: 0.8750\n",
            "Train Epoch: 5 [27200/50000] Loss: 0.579016 Acc: 0.8750\n",
            "Train Epoch: 5 [28800/50000] Loss: 0.231124 Acc: 0.8750\n",
            "Train Epoch: 5 [30400/50000] Loss: 0.257185 Acc: 0.9375\n",
            "Train Epoch: 5 [32000/50000] Loss: 0.544662 Acc: 0.6875\n",
            "Train Epoch: 5 [33600/50000] Loss: 0.329945 Acc: 0.9375\n",
            "Train Epoch: 5 [35200/50000] Loss: 0.609832 Acc: 0.8125\n",
            "Train Epoch: 5 [36800/50000] Loss: 0.537946 Acc: 0.7500\n",
            "Train Epoch: 5 [38400/50000] Loss: 1.014389 Acc: 0.6875\n",
            "Train Epoch: 5 [40000/50000] Loss: 1.206144 Acc: 0.7500\n",
            "Train Epoch: 5 [41600/50000] Loss: 0.926064 Acc: 0.6875\n",
            "Train Epoch: 5 [43200/50000] Loss: 0.527672 Acc: 0.8125\n",
            "Train Epoch: 5 [44800/50000] Loss: 0.534100 Acc: 0.7500\n",
            "Train Epoch: 5 [46400/50000] Loss: 0.237509 Acc: 1.0000\n",
            "Train Epoch: 5 [48000/50000] Loss: 0.359012 Acc: 0.9375\n",
            "Train Epoch: 5 [49600/50000] Loss: 0.877747 Acc: 0.6250\n",
            "Elapsed 670.52s, 111.75 s/epoch, 0.04 s/batch, ets 1005.78s\n",
            "\n",
            "Test set: Average loss: 0.7712, Accuracy: 7444/10000 (74%)\n",
            "\n",
            "Accuracy improved, saving the model.\n",
            "\n",
            "Train Epoch: 6 [1600/50000] Loss: 0.141537 Acc: 0.9375\n",
            "Train Epoch: 6 [3200/50000] Loss: 0.407125 Acc: 0.6875\n",
            "Train Epoch: 6 [4800/50000] Loss: 0.330136 Acc: 0.8750\n",
            "Train Epoch: 6 [6400/50000] Loss: 0.220249 Acc: 0.9375\n",
            "Train Epoch: 6 [8000/50000] Loss: 0.554643 Acc: 0.8125\n",
            "Train Epoch: 6 [9600/50000] Loss: 0.666221 Acc: 0.7500\n",
            "Train Epoch: 6 [11200/50000] Loss: 0.761084 Acc: 0.7500\n",
            "Train Epoch: 6 [12800/50000] Loss: 0.451191 Acc: 0.8125\n",
            "Train Epoch: 6 [14400/50000] Loss: 0.439313 Acc: 0.8750\n",
            "Train Epoch: 6 [16000/50000] Loss: 0.693592 Acc: 0.8125\n",
            "Train Epoch: 6 [17600/50000] Loss: 0.672498 Acc: 0.7500\n",
            "Train Epoch: 6 [19200/50000] Loss: 0.349097 Acc: 0.8125\n",
            "Train Epoch: 6 [20800/50000] Loss: 1.111477 Acc: 0.5625\n",
            "Train Epoch: 6 [22400/50000] Loss: 0.330423 Acc: 0.8750\n",
            "Train Epoch: 6 [24000/50000] Loss: 0.206987 Acc: 0.9375\n",
            "Train Epoch: 6 [25600/50000] Loss: 0.319685 Acc: 0.8750\n",
            "Train Epoch: 6 [27200/50000] Loss: 0.367682 Acc: 0.8750\n",
            "Train Epoch: 6 [28800/50000] Loss: 0.226893 Acc: 0.8750\n",
            "Train Epoch: 6 [30400/50000] Loss: 0.356576 Acc: 0.9375\n",
            "Train Epoch: 6 [32000/50000] Loss: 0.467765 Acc: 0.8125\n",
            "Train Epoch: 6 [33600/50000] Loss: 0.619135 Acc: 0.6875\n",
            "Train Epoch: 6 [35200/50000] Loss: 0.244899 Acc: 0.9375\n",
            "Train Epoch: 6 [36800/50000] Loss: 0.240721 Acc: 0.8750\n",
            "Train Epoch: 6 [38400/50000] Loss: 0.529790 Acc: 0.8750\n",
            "Train Epoch: 6 [40000/50000] Loss: 0.629907 Acc: 0.8750\n",
            "Train Epoch: 6 [41600/50000] Loss: 0.155298 Acc: 0.9375\n",
            "Train Epoch: 6 [43200/50000] Loss: 0.279451 Acc: 0.8750\n",
            "Train Epoch: 6 [44800/50000] Loss: 0.452197 Acc: 0.8750\n",
            "Train Epoch: 6 [46400/50000] Loss: 0.589664 Acc: 0.7500\n",
            "Train Epoch: 6 [48000/50000] Loss: 0.529611 Acc: 0.8125\n",
            "Train Epoch: 6 [49600/50000] Loss: 0.249239 Acc: 0.8750\n",
            "Elapsed 783.66s, 111.95 s/epoch, 0.04 s/batch, ets 895.61s\n",
            "\n",
            "Test set: Average loss: 0.7970, Accuracy: 7386/10000 (74%)\n",
            "\n",
            "Train Epoch: 7 [1600/50000] Loss: 0.549354 Acc: 0.7500\n",
            "Train Epoch: 7 [3200/50000] Loss: 0.130948 Acc: 1.0000\n",
            "Train Epoch: 7 [4800/50000] Loss: 0.097930 Acc: 1.0000\n",
            "Train Epoch: 7 [6400/50000] Loss: 0.252431 Acc: 0.9375\n",
            "Train Epoch: 7 [8000/50000] Loss: 0.214535 Acc: 0.9375\n",
            "Train Epoch: 7 [9600/50000] Loss: 0.585658 Acc: 0.6875\n",
            "Train Epoch: 7 [11200/50000] Loss: 0.424497 Acc: 0.8750\n",
            "Train Epoch: 7 [12800/50000] Loss: 1.215659 Acc: 0.6250\n",
            "Train Epoch: 7 [14400/50000] Loss: 0.417887 Acc: 0.7500\n",
            "Train Epoch: 7 [16000/50000] Loss: 0.265953 Acc: 0.9375\n",
            "Train Epoch: 7 [17600/50000] Loss: 0.280679 Acc: 0.8750\n",
            "Train Epoch: 7 [19200/50000] Loss: 0.227488 Acc: 1.0000\n",
            "Train Epoch: 7 [20800/50000] Loss: 0.192753 Acc: 0.9375\n",
            "Train Epoch: 7 [22400/50000] Loss: 0.609454 Acc: 0.7500\n",
            "Train Epoch: 7 [24000/50000] Loss: 0.315082 Acc: 0.8750\n",
            "Train Epoch: 7 [25600/50000] Loss: 0.396771 Acc: 0.8750\n",
            "Train Epoch: 7 [27200/50000] Loss: 0.261794 Acc: 0.9375\n",
            "Train Epoch: 7 [28800/50000] Loss: 0.650609 Acc: 0.8125\n",
            "Train Epoch: 7 [30400/50000] Loss: 0.134158 Acc: 1.0000\n",
            "Train Epoch: 7 [32000/50000] Loss: 0.558965 Acc: 0.7500\n",
            "Train Epoch: 7 [33600/50000] Loss: 0.340472 Acc: 0.9375\n",
            "Train Epoch: 7 [35200/50000] Loss: 0.451984 Acc: 0.8125\n",
            "Train Epoch: 7 [36800/50000] Loss: 0.395544 Acc: 0.9375\n",
            "Train Epoch: 7 [38400/50000] Loss: 0.107215 Acc: 1.0000\n",
            "Train Epoch: 7 [40000/50000] Loss: 0.273334 Acc: 0.9375\n",
            "Train Epoch: 7 [41600/50000] Loss: 0.338591 Acc: 0.8750\n",
            "Train Epoch: 7 [43200/50000] Loss: 0.388141 Acc: 0.8750\n",
            "Train Epoch: 7 [44800/50000] Loss: 0.301501 Acc: 0.8750\n",
            "Train Epoch: 7 [46400/50000] Loss: 0.773236 Acc: 0.7500\n",
            "Train Epoch: 7 [48000/50000] Loss: 0.344088 Acc: 0.8750\n",
            "Train Epoch: 7 [49600/50000] Loss: 0.479998 Acc: 0.8125\n",
            "Elapsed 896.70s, 112.09 s/epoch, 0.04 s/batch, ets 784.61s\n",
            "\n",
            "Test set: Average loss: 0.7942, Accuracy: 7450/10000 (74%)\n",
            "\n",
            "Accuracy improved, saving the model.\n",
            "\n",
            "Train Epoch: 8 [1600/50000] Loss: 0.265076 Acc: 0.9375\n",
            "Train Epoch: 8 [3200/50000] Loss: 0.295859 Acc: 0.8750\n",
            "Train Epoch: 8 [4800/50000] Loss: 0.367153 Acc: 0.8125\n",
            "Train Epoch: 8 [6400/50000] Loss: 0.019381 Acc: 1.0000\n",
            "Train Epoch: 8 [8000/50000] Loss: 0.388828 Acc: 0.8125\n",
            "Train Epoch: 8 [9600/50000] Loss: 0.280756 Acc: 0.9375\n",
            "Train Epoch: 8 [11200/50000] Loss: 0.296152 Acc: 0.8750\n",
            "Train Epoch: 8 [12800/50000] Loss: 0.192519 Acc: 0.9375\n",
            "Train Epoch: 8 [14400/50000] Loss: 0.104109 Acc: 1.0000\n",
            "Train Epoch: 8 [16000/50000] Loss: 0.576615 Acc: 0.9375\n",
            "Train Epoch: 8 [17600/50000] Loss: 0.534827 Acc: 0.8750\n",
            "Train Epoch: 8 [19200/50000] Loss: 0.183156 Acc: 0.8750\n",
            "Train Epoch: 8 [20800/50000] Loss: 0.383900 Acc: 0.8750\n",
            "Train Epoch: 8 [22400/50000] Loss: 0.971964 Acc: 0.5625\n",
            "Train Epoch: 8 [24000/50000] Loss: 0.193781 Acc: 0.8750\n",
            "Train Epoch: 8 [25600/50000] Loss: 0.577538 Acc: 0.7500\n",
            "Train Epoch: 8 [27200/50000] Loss: 0.127349 Acc: 0.9375\n",
            "Train Epoch: 8 [28800/50000] Loss: 0.383199 Acc: 0.9375\n",
            "Train Epoch: 8 [30400/50000] Loss: 0.194027 Acc: 0.9375\n",
            "Train Epoch: 8 [32000/50000] Loss: 0.429287 Acc: 0.8125\n",
            "Train Epoch: 8 [33600/50000] Loss: 0.272946 Acc: 0.9375\n",
            "Train Epoch: 8 [35200/50000] Loss: 0.327027 Acc: 0.8750\n",
            "Train Epoch: 8 [36800/50000] Loss: 0.218692 Acc: 0.8750\n",
            "Train Epoch: 8 [38400/50000] Loss: 0.496631 Acc: 0.8125\n",
            "Train Epoch: 8 [40000/50000] Loss: 0.514743 Acc: 0.8125\n",
            "Train Epoch: 8 [41600/50000] Loss: 0.318222 Acc: 0.8750\n",
            "Train Epoch: 8 [43200/50000] Loss: 0.109200 Acc: 1.0000\n",
            "Train Epoch: 8 [44800/50000] Loss: 0.348175 Acc: 0.8750\n",
            "Train Epoch: 8 [46400/50000] Loss: 0.127915 Acc: 0.8750\n",
            "Train Epoch: 8 [48000/50000] Loss: 0.393192 Acc: 0.8750\n",
            "Train Epoch: 8 [49600/50000] Loss: 0.587669 Acc: 0.8125\n",
            "Elapsed 1009.62s, 112.18 s/epoch, 0.04 s/batch, ets 673.08s\n",
            "\n",
            "Test set: Average loss: 0.8922, Accuracy: 7263/10000 (73%)\n",
            "\n",
            "Train Epoch: 9 [1600/50000] Loss: 0.349929 Acc: 0.9375\n",
            "Train Epoch: 9 [3200/50000] Loss: 0.211436 Acc: 0.9375\n",
            "Train Epoch: 9 [4800/50000] Loss: 0.461185 Acc: 0.8750\n",
            "Train Epoch: 9 [6400/50000] Loss: 0.044433 Acc: 1.0000\n",
            "Train Epoch: 9 [8000/50000] Loss: 0.717563 Acc: 0.7500\n",
            "Train Epoch: 9 [9600/50000] Loss: 0.507854 Acc: 0.8750\n",
            "Train Epoch: 9 [11200/50000] Loss: 0.118861 Acc: 0.9375\n",
            "Train Epoch: 9 [12800/50000] Loss: 0.073216 Acc: 1.0000\n",
            "Train Epoch: 9 [14400/50000] Loss: 0.024286 Acc: 1.0000\n",
            "Train Epoch: 9 [16000/50000] Loss: 0.020435 Acc: 1.0000\n",
            "Train Epoch: 9 [17600/50000] Loss: 0.161270 Acc: 0.9375\n",
            "Train Epoch: 9 [19200/50000] Loss: 0.495824 Acc: 0.8125\n",
            "Train Epoch: 9 [20800/50000] Loss: 0.388314 Acc: 0.8125\n",
            "Train Epoch: 9 [22400/50000] Loss: 0.316680 Acc: 0.8750\n",
            "Train Epoch: 9 [24000/50000] Loss: 0.085549 Acc: 1.0000\n",
            "Train Epoch: 9 [25600/50000] Loss: 0.353570 Acc: 0.8750\n",
            "Train Epoch: 9 [27200/50000] Loss: 0.505405 Acc: 0.8125\n",
            "Train Epoch: 9 [28800/50000] Loss: 0.178904 Acc: 0.9375\n",
            "Train Epoch: 9 [30400/50000] Loss: 0.087913 Acc: 1.0000\n",
            "Train Epoch: 9 [32000/50000] Loss: 0.328661 Acc: 0.8125\n",
            "Train Epoch: 9 [33600/50000] Loss: 0.103189 Acc: 1.0000\n",
            "Train Epoch: 9 [35200/50000] Loss: 0.548993 Acc: 0.7500\n",
            "Train Epoch: 9 [36800/50000] Loss: 0.116965 Acc: 0.9375\n",
            "Train Epoch: 9 [38400/50000] Loss: 0.298090 Acc: 0.8750\n",
            "Train Epoch: 9 [40000/50000] Loss: 0.247903 Acc: 1.0000\n",
            "Train Epoch: 9 [41600/50000] Loss: 0.465940 Acc: 0.8750\n",
            "Train Epoch: 9 [43200/50000] Loss: 0.209131 Acc: 0.9375\n",
            "Train Epoch: 9 [44800/50000] Loss: 0.841341 Acc: 0.6875\n",
            "Train Epoch: 9 [46400/50000] Loss: 0.288069 Acc: 0.8750\n",
            "Train Epoch: 9 [48000/50000] Loss: 0.257582 Acc: 0.8750\n",
            "Train Epoch: 9 [49600/50000] Loss: 0.441740 Acc: 0.8750\n",
            "Elapsed 1121.92s, 112.19 s/epoch, 0.04 s/batch, ets 560.96s\n",
            "\n",
            "Test set: Average loss: 0.8378, Accuracy: 7573/10000 (76%)\n",
            "\n",
            "Accuracy improved, saving the model.\n",
            "\n",
            "Train Epoch: 10 [1600/50000] Loss: 0.226481 Acc: 0.8125\n",
            "Train Epoch: 10 [3200/50000] Loss: 0.318613 Acc: 0.8750\n",
            "Train Epoch: 10 [4800/50000] Loss: 0.271657 Acc: 0.9375\n",
            "Train Epoch: 10 [6400/50000] Loss: 0.066701 Acc: 1.0000\n",
            "Train Epoch: 10 [8000/50000] Loss: 0.386364 Acc: 0.8750\n",
            "Train Epoch: 10 [9600/50000] Loss: 0.270327 Acc: 0.8750\n",
            "Train Epoch: 10 [11200/50000] Loss: 0.240305 Acc: 0.9375\n",
            "Train Epoch: 10 [12800/50000] Loss: 0.482570 Acc: 0.8125\n",
            "Train Epoch: 10 [14400/50000] Loss: 0.075728 Acc: 1.0000\n",
            "Train Epoch: 10 [16000/50000] Loss: 0.276925 Acc: 0.8750\n",
            "Train Epoch: 10 [17600/50000] Loss: 0.388305 Acc: 0.8750\n",
            "Train Epoch: 10 [19200/50000] Loss: 0.111803 Acc: 1.0000\n",
            "Train Epoch: 10 [20800/50000] Loss: 0.475827 Acc: 0.9375\n",
            "Train Epoch: 10 [22400/50000] Loss: 0.185975 Acc: 0.9375\n",
            "Train Epoch: 10 [24000/50000] Loss: 0.147555 Acc: 0.9375\n",
            "Train Epoch: 10 [25600/50000] Loss: 0.350556 Acc: 0.8125\n",
            "Train Epoch: 10 [27200/50000] Loss: 0.523063 Acc: 0.8125\n",
            "Train Epoch: 10 [28800/50000] Loss: 0.267351 Acc: 0.8125\n",
            "Train Epoch: 10 [30400/50000] Loss: 0.292340 Acc: 0.8125\n",
            "Train Epoch: 10 [32000/50000] Loss: 0.414623 Acc: 0.7500\n",
            "Train Epoch: 10 [33600/50000] Loss: 0.136086 Acc: 0.9375\n",
            "Train Epoch: 10 [35200/50000] Loss: 0.087875 Acc: 1.0000\n",
            "Train Epoch: 10 [36800/50000] Loss: 0.452782 Acc: 0.8125\n",
            "Train Epoch: 10 [38400/50000] Loss: 0.143460 Acc: 0.9375\n",
            "Train Epoch: 10 [40000/50000] Loss: 0.095048 Acc: 1.0000\n",
            "Train Epoch: 10 [41600/50000] Loss: 0.461523 Acc: 0.8750\n",
            "Train Epoch: 10 [43200/50000] Loss: 0.285336 Acc: 0.8750\n",
            "Train Epoch: 10 [44800/50000] Loss: 0.200731 Acc: 0.8750\n",
            "Train Epoch: 10 [46400/50000] Loss: 0.197814 Acc: 0.9375\n",
            "Train Epoch: 10 [48000/50000] Loss: 0.313004 Acc: 0.8750\n",
            "Train Epoch: 10 [49600/50000] Loss: 0.341337 Acc: 0.9375\n",
            "Elapsed 1234.44s, 112.22 s/epoch, 0.04 s/batch, ets 448.89s\n",
            "\n",
            "Test set: Average loss: 0.8354, Accuracy: 7661/10000 (77%)\n",
            "\n",
            "Accuracy improved, saving the model.\n",
            "\n",
            "Train Epoch: 11 [1600/50000] Loss: 0.214456 Acc: 0.9375\n",
            "Train Epoch: 11 [3200/50000] Loss: 0.182645 Acc: 0.9375\n",
            "Train Epoch: 11 [4800/50000] Loss: 0.427639 Acc: 0.9375\n",
            "Train Epoch: 11 [6400/50000] Loss: 0.232862 Acc: 0.8750\n",
            "Train Epoch: 11 [8000/50000] Loss: 0.082466 Acc: 1.0000\n",
            "Train Epoch: 11 [9600/50000] Loss: 0.049908 Acc: 1.0000\n",
            "Train Epoch: 11 [11200/50000] Loss: 0.182677 Acc: 0.8750\n",
            "Train Epoch: 11 [12800/50000] Loss: 0.262870 Acc: 0.9375\n",
            "Train Epoch: 11 [14400/50000] Loss: 0.741241 Acc: 0.7500\n",
            "Train Epoch: 11 [16000/50000] Loss: 0.029865 Acc: 1.0000\n",
            "Train Epoch: 11 [17600/50000] Loss: 0.120621 Acc: 0.9375\n",
            "Train Epoch: 11 [19200/50000] Loss: 0.350879 Acc: 0.8125\n",
            "Train Epoch: 11 [20800/50000] Loss: 0.283288 Acc: 0.9375\n",
            "Train Epoch: 11 [22400/50000] Loss: 0.338626 Acc: 0.8750\n",
            "Train Epoch: 11 [24000/50000] Loss: 0.188830 Acc: 0.8750\n",
            "Train Epoch: 11 [25600/50000] Loss: 0.103434 Acc: 0.9375\n",
            "Train Epoch: 11 [27200/50000] Loss: 0.663248 Acc: 0.8125\n",
            "Train Epoch: 11 [28800/50000] Loss: 0.395689 Acc: 0.8750\n",
            "Train Epoch: 11 [30400/50000] Loss: 0.467618 Acc: 0.7500\n",
            "Train Epoch: 11 [32000/50000] Loss: 0.156819 Acc: 0.9375\n",
            "Train Epoch: 11 [33600/50000] Loss: 0.171910 Acc: 1.0000\n",
            "Train Epoch: 11 [35200/50000] Loss: 0.269521 Acc: 0.9375\n",
            "Train Epoch: 11 [36800/50000] Loss: 0.401014 Acc: 0.9375\n",
            "Train Epoch: 11 [38400/50000] Loss: 0.110913 Acc: 0.9375\n",
            "Train Epoch: 11 [40000/50000] Loss: 0.270120 Acc: 0.8750\n",
            "Train Epoch: 11 [41600/50000] Loss: 0.184796 Acc: 0.8750\n",
            "Train Epoch: 11 [43200/50000] Loss: 0.425359 Acc: 0.9375\n",
            "Train Epoch: 11 [44800/50000] Loss: 0.047319 Acc: 1.0000\n",
            "Train Epoch: 11 [46400/50000] Loss: 0.083132 Acc: 1.0000\n",
            "Train Epoch: 11 [48000/50000] Loss: 0.095839 Acc: 1.0000\n",
            "Train Epoch: 11 [49600/50000] Loss: 0.236457 Acc: 0.9375\n",
            "Elapsed 1346.88s, 112.24 s/epoch, 0.04 s/batch, ets 336.72s\n",
            "\n",
            "Test set: Average loss: 1.1059, Accuracy: 7275/10000 (73%)\n",
            "\n",
            "Train Epoch: 12 [1600/50000] Loss: 0.414977 Acc: 0.8750\n",
            "Train Epoch: 12 [3200/50000] Loss: 0.067587 Acc: 0.9375\n",
            "Train Epoch: 12 [4800/50000] Loss: 0.290078 Acc: 0.8750\n",
            "Train Epoch: 12 [6400/50000] Loss: 0.034586 Acc: 1.0000\n",
            "Train Epoch: 12 [8000/50000] Loss: 0.333718 Acc: 0.8750\n",
            "Train Epoch: 12 [9600/50000] Loss: 0.265183 Acc: 0.8750\n",
            "Train Epoch: 12 [11200/50000] Loss: 0.030485 Acc: 1.0000\n",
            "Train Epoch: 12 [12800/50000] Loss: 0.146480 Acc: 0.9375\n",
            "Train Epoch: 12 [14400/50000] Loss: 0.526216 Acc: 0.8750\n",
            "Train Epoch: 12 [16000/50000] Loss: 0.206038 Acc: 1.0000\n",
            "Train Epoch: 12 [17600/50000] Loss: 0.116551 Acc: 0.9375\n",
            "Train Epoch: 12 [19200/50000] Loss: 0.033216 Acc: 1.0000\n",
            "Train Epoch: 12 [20800/50000] Loss: 0.140923 Acc: 1.0000\n",
            "Train Epoch: 12 [22400/50000] Loss: 0.085934 Acc: 1.0000\n",
            "Train Epoch: 12 [24000/50000] Loss: 0.428082 Acc: 0.8125\n",
            "Train Epoch: 12 [25600/50000] Loss: 0.294914 Acc: 0.9375\n",
            "Train Epoch: 12 [27200/50000] Loss: 0.209680 Acc: 0.9375\n",
            "Train Epoch: 12 [28800/50000] Loss: 0.026161 Acc: 1.0000\n",
            "Train Epoch: 12 [30400/50000] Loss: 0.342499 Acc: 0.8125\n",
            "Train Epoch: 12 [32000/50000] Loss: 0.094558 Acc: 1.0000\n",
            "Train Epoch: 12 [33600/50000] Loss: 0.162717 Acc: 0.8750\n",
            "Train Epoch: 12 [35200/50000] Loss: 0.070638 Acc: 1.0000\n",
            "Train Epoch: 12 [36800/50000] Loss: 0.324832 Acc: 0.8750\n",
            "Train Epoch: 12 [38400/50000] Loss: 0.014493 Acc: 1.0000\n",
            "Train Epoch: 12 [40000/50000] Loss: 0.112127 Acc: 0.9375\n",
            "Train Epoch: 12 [41600/50000] Loss: 0.283254 Acc: 0.8750\n",
            "Train Epoch: 12 [43200/50000] Loss: 0.009633 Acc: 1.0000\n",
            "Train Epoch: 12 [44800/50000] Loss: 0.068065 Acc: 1.0000\n",
            "Train Epoch: 12 [46400/50000] Loss: 0.217606 Acc: 0.8750\n",
            "Train Epoch: 12 [48000/50000] Loss: 0.066579 Acc: 0.9375\n",
            "Train Epoch: 12 [49600/50000] Loss: 0.085309 Acc: 1.0000\n",
            "Elapsed 1459.27s, 112.25 s/epoch, 0.04 s/batch, ets 224.50s\n",
            "\n",
            "Test set: Average loss: 0.8449, Accuracy: 7774/10000 (78%)\n",
            "\n",
            "Accuracy improved, saving the model.\n",
            "\n",
            "Train Epoch: 13 [1600/50000] Loss: 0.568295 Acc: 0.8125\n",
            "Train Epoch: 13 [3200/50000] Loss: 0.247808 Acc: 0.9375\n",
            "Train Epoch: 13 [4800/50000] Loss: 0.143488 Acc: 0.9375\n",
            "Train Epoch: 13 [6400/50000] Loss: 0.385454 Acc: 0.8750\n",
            "Train Epoch: 13 [8000/50000] Loss: 0.030345 Acc: 1.0000\n",
            "Train Epoch: 13 [9600/50000] Loss: 0.056729 Acc: 1.0000\n",
            "Train Epoch: 13 [11200/50000] Loss: 0.200743 Acc: 0.9375\n",
            "Train Epoch: 13 [12800/50000] Loss: 0.055469 Acc: 1.0000\n",
            "Train Epoch: 13 [14400/50000] Loss: 0.078858 Acc: 1.0000\n",
            "Train Epoch: 13 [16000/50000] Loss: 0.061057 Acc: 1.0000\n",
            "Train Epoch: 13 [17600/50000] Loss: 0.101052 Acc: 0.9375\n",
            "Train Epoch: 13 [19200/50000] Loss: 0.354843 Acc: 0.8750\n",
            "Train Epoch: 13 [20800/50000] Loss: 0.113979 Acc: 0.9375\n",
            "Train Epoch: 13 [22400/50000] Loss: 0.104604 Acc: 0.9375\n",
            "Train Epoch: 13 [24000/50000] Loss: 0.326803 Acc: 0.8125\n",
            "Train Epoch: 13 [25600/50000] Loss: 0.052852 Acc: 1.0000\n",
            "Train Epoch: 13 [27200/50000] Loss: 0.068667 Acc: 1.0000\n",
            "Train Epoch: 13 [28800/50000] Loss: 0.048050 Acc: 1.0000\n",
            "Train Epoch: 13 [30400/50000] Loss: 0.054806 Acc: 1.0000\n",
            "Train Epoch: 13 [32000/50000] Loss: 0.059741 Acc: 0.9375\n",
            "Train Epoch: 13 [33600/50000] Loss: 0.010549 Acc: 1.0000\n",
            "Train Epoch: 13 [35200/50000] Loss: 0.252393 Acc: 0.8750\n",
            "Train Epoch: 13 [36800/50000] Loss: 0.023423 Acc: 1.0000\n",
            "Train Epoch: 13 [38400/50000] Loss: 0.161677 Acc: 0.9375\n",
            "Train Epoch: 13 [40000/50000] Loss: 0.112213 Acc: 0.9375\n",
            "Train Epoch: 13 [41600/50000] Loss: 0.156740 Acc: 0.9375\n",
            "Train Epoch: 13 [43200/50000] Loss: 0.031434 Acc: 1.0000\n",
            "Train Epoch: 13 [44800/50000] Loss: 0.727247 Acc: 0.8125\n",
            "Train Epoch: 13 [46400/50000] Loss: 0.124532 Acc: 0.9375\n",
            "Train Epoch: 13 [48000/50000] Loss: 0.023177 Acc: 1.0000\n",
            "Train Epoch: 13 [49600/50000] Loss: 0.063041 Acc: 1.0000\n",
            "Elapsed 1571.53s, 112.25 s/epoch, 0.04 s/batch, ets 112.25s\n",
            "\n",
            "Test set: Average loss: 0.9971, Accuracy: 7632/10000 (76%)\n",
            "\n",
            "Train Epoch: 14 [1600/50000] Loss: 0.040817 Acc: 1.0000\n",
            "Train Epoch: 14 [3200/50000] Loss: 0.115404 Acc: 0.9375\n",
            "Train Epoch: 14 [4800/50000] Loss: 0.005748 Acc: 1.0000\n",
            "Train Epoch: 14 [6400/50000] Loss: 0.042666 Acc: 1.0000\n",
            "Train Epoch: 14 [8000/50000] Loss: 0.139967 Acc: 0.9375\n",
            "Train Epoch: 14 [9600/50000] Loss: 0.021964 Acc: 1.0000\n",
            "Train Epoch: 14 [11200/50000] Loss: 0.237947 Acc: 0.8750\n",
            "Train Epoch: 14 [12800/50000] Loss: 0.337598 Acc: 0.8125\n",
            "Train Epoch: 14 [14400/50000] Loss: 0.062655 Acc: 1.0000\n",
            "Train Epoch: 14 [16000/50000] Loss: 0.163354 Acc: 0.9375\n",
            "Train Epoch: 14 [17600/50000] Loss: 0.067757 Acc: 1.0000\n",
            "Train Epoch: 14 [19200/50000] Loss: 0.109183 Acc: 0.9375\n",
            "Train Epoch: 14 [20800/50000] Loss: 0.033784 Acc: 1.0000\n",
            "Train Epoch: 14 [22400/50000] Loss: 0.153697 Acc: 0.9375\n",
            "Train Epoch: 14 [24000/50000] Loss: 0.065042 Acc: 1.0000\n",
            "Train Epoch: 14 [25600/50000] Loss: 0.190462 Acc: 0.9375\n",
            "Train Epoch: 14 [27200/50000] Loss: 0.031740 Acc: 1.0000\n",
            "Train Epoch: 14 [28800/50000] Loss: 0.026013 Acc: 1.0000\n",
            "Train Epoch: 14 [30400/50000] Loss: 0.019710 Acc: 1.0000\n",
            "Train Epoch: 14 [32000/50000] Loss: 0.010565 Acc: 1.0000\n",
            "Train Epoch: 14 [33600/50000] Loss: 0.015428 Acc: 1.0000\n",
            "Train Epoch: 14 [35200/50000] Loss: 0.123697 Acc: 0.9375\n",
            "Train Epoch: 14 [36800/50000] Loss: 0.018887 Acc: 1.0000\n",
            "Train Epoch: 14 [38400/50000] Loss: 0.061825 Acc: 0.9375\n",
            "Train Epoch: 14 [40000/50000] Loss: 0.037662 Acc: 1.0000\n",
            "Train Epoch: 14 [41600/50000] Loss: 0.038981 Acc: 1.0000\n",
            "Train Epoch: 14 [43200/50000] Loss: 0.046963 Acc: 1.0000\n",
            "Train Epoch: 14 [44800/50000] Loss: 0.007384 Acc: 1.0000\n",
            "Train Epoch: 14 [46400/50000] Loss: 0.125936 Acc: 0.9375\n",
            "Train Epoch: 14 [48000/50000] Loss: 0.008905 Acc: 1.0000\n",
            "Train Epoch: 14 [49600/50000] Loss: 0.417502 Acc: 0.8125\n",
            "Elapsed 1683.90s, 112.26 s/epoch, 0.04 s/batch, ets 0.00s\n",
            "\n",
            "Test set: Average loss: 0.9040, Accuracy: 7790/10000 (78%)\n",
            "\n",
            "Accuracy improved, saving the model.\n",
            "\n",
            "Total time: 1690.85, Best Loss: 0.730, Best Accuracy: 0.779\n"
          ]
        }
      ]
    },
    {
      "cell_type": "markdown",
      "metadata": {
        "id": "jAy0TSpHJGbi",
        "nbgrader": {
          "grade": false,
          "locked": true,
          "solution": false
        }
      },
      "source": [
        "# <font style=\"color:blue\">12. Plot Loss</font>"
      ]
    },
    {
      "cell_type": "code",
      "metadata": {
        "id": "usF5DnpSJGbi",
        "lines_to_next_cell": 2,
        "nbgrader": {
          "grade": false,
          "locked": true,
          "solution": false
        },
        "colab": {
          "base_uri": "https://localhost:8080/",
          "height": 404
        },
        "outputId": "9635240b-b76b-496e-eb97-0d7b38b30fad"
      },
      "source": [
        "# Plot loss\n",
        "plt.rcParams[\"figure.figsize\"] = (10, 6)\n",
        "x = range(len(epoch_train_loss))\n",
        "\n",
        "\n",
        "plt.figure\n",
        "plt.plot(x, epoch_train_loss, color='r', label=\"train loss\")\n",
        "plt.plot(x, epoch_test_loss, color='b', label=\"validation loss\")\n",
        "plt.xlabel('epoch no.')\n",
        "plt.ylabel('loss')\n",
        "plt.legend(loc='upper right')\n",
        "plt.title('Training and Validation Loss')\n",
        "plt.show()"
      ],
      "execution_count": 20,
      "outputs": [
        {
          "output_type": "display_data",
          "data": {
            "text/plain": [
              "<Figure size 720x432 with 1 Axes>"
            ],
            "image/png": "[encoded data removed]"
          },
          "metadata": {
            "needs_background": "light"
          }
        }
      ]
    },
    {
      "cell_type": "markdown",
      "metadata": {
        "id": "my7EZy1MJGbl",
        "nbgrader": {
          "grade": false,
          "locked": true,
          "solution": false
        }
      },
      "source": [
        "# <font style=\"color:blue\">13. Plot Accuracy</font>"
      ]
    },
    {
      "cell_type": "code",
      "metadata": {
        "id": "N_LPC69oJGbm",
        "nbgrader": {
          "grade": false,
          "locked": true,
          "solution": false
        },
        "colab": {
          "base_uri": "https://localhost:8080/",
          "height": 404
        },
        "outputId": "845100aa-822c-430e-97fa-c133f862abae"
      },
      "source": [
        "# Plot loss\n",
        "plt.rcParams[\"figure.figsize\"] = (10, 6)\n",
        "x = range(len(epoch_train_loss))\n",
        "\n",
        "\n",
        "plt.figure\n",
        "plt.plot(x, epoch_train_acc, color='r', label=\"train accuracy\")\n",
        "plt.plot(x, epoch_test_acc, color='b', label=\"validation accuracy\")\n",
        "plt.xlabel('epoch no.')\n",
        "plt.ylabel('accuracy')\n",
        "plt.legend(loc='center right')\n",
        "plt.title('Training and Validation Accuracy')\n",
        "plt.show()"
      ],
      "execution_count": 21,
      "outputs": [
        {
          "output_type": "display_data",
          "data": {
            "text/plain": [
              "<Figure size 720x432 with 1 Axes>"
            ],
            "image/png": "[encoded data removed]"
          },
          "metadata": {
            "needs_background": "light"
          }
        }
      ]
    },
    {
      "cell_type": "markdown",
      "metadata": {
        "id": "W_q1qekQJGbp",
        "nbgrader": {
          "grade": false,
          "locked": true,
          "solution": false
        }
      },
      "source": [
        "# <font style=\"color:blue\">14. Loading the Model </font>\n"
      ]
    },
    {
      "cell_type": "code",
      "metadata": {
        "id": "WM-icBgDJGbp",
        "nbgrader": {
          "grade": false,
          "locked": true,
          "solution": false
        },
        "colab": {
          "base_uri": "https://localhost:8080/"
        },
        "outputId": "61b28599-50ea-4664-fb78-1d0028007bdf"
      },
      "source": [
        "# initialize the model\n",
        "cnn_model = MyModel()\n",
        "\n",
        "models = 'models'\n",
        "\n",
        "model_file_name = 'cifar10_cnn_model.pt'\n",
        "\n",
        "model_path = os.path.join(models, model_file_name)\n",
        "\n",
        "# loading the model and getting model parameters by using load_state_dict\n",
        "cnn_model.load_state_dict(torch.load(model_path))"
      ],
      "execution_count": 22,
      "outputs": [
        {
          "output_type": "execute_result",
          "data": {
            "text/plain": [
              "<All keys matched successfully>"
            ]
          },
          "metadata": {},
          "execution_count": 22
        }
      ]
    },
    {
      "cell_type": "markdown",
      "metadata": {
        "id": "nF5uuusgJGbs",
        "nbgrader": {
          "grade": false,
          "locked": true,
          "solution": false
        }
      },
      "source": [
        "# <font style=\"color:blue\">15. Model Prediction</font>\n"
      ]
    },
    {
      "cell_type": "code",
      "metadata": {
        "id": "hyAmSgK2JGbs",
        "nbgrader": {
          "grade": false,
          "locked": true,
          "solution": false
        }
      },
      "source": [
        "def prediction(model, train_config, batch_input):\n",
        "    \n",
        "    # send model to cpu/cuda according to your system configuration\n",
        "    model.to(train_config.device)\n",
        "    \n",
        "    # it is important to do model.eval() before prediction\n",
        "    model.eval()\n",
        "\n",
        "    data = batch_input.to(train_config.device)\n",
        "\n",
        "    output = model(data)\n",
        "\n",
        "    # Score to probability using softmax\n",
        "    prob = F.softmax(output, dim=1)\n",
        "\n",
        "    # get the max probability\n",
        "    pred_prob = prob.data.max(dim=1)[0]\n",
        "    \n",
        "    # get the index of the max probability\n",
        "    pred_index = prob.data.max(dim=1)[1]\n",
        "    \n",
        "    return pred_index.cpu().numpy(), pred_prob.cpu().numpy()"
      ],
      "execution_count": 23,
      "outputs": []
    },
    {
      "cell_type": "markdown",
      "metadata": {
        "id": "iaGRXs4HJGbx",
        "nbgrader": {
          "grade": false,
          "locked": true,
          "solution": false
        }
      },
      "source": [
        "# <font style=\"color:blue\">16. Perform Inference on sample images </font>\n",
        "\n",
        "For prediction, we need to transform the data in the same way as we have done during training. "
      ]
    },
    {
      "cell_type": "code",
      "metadata": {
        "id": "0L5ecPKtJGbx",
        "lines_to_next_cell": 2,
        "nbgrader": {
          "grade": false,
          "locked": true,
          "solution": false
        },
        "colab": {
          "base_uri": "https://localhost:8080/",
          "height": 1000
        },
        "outputId": "e349cdfe-49e7-4b2d-ebc4-eafcd4986ec4"
      },
      "source": [
        "classes = ('plane', 'car', 'bird', 'cat', 'deer', 'dog', 'frog', 'horse', 'ship', 'truck')\n",
        "\n",
        "batch_size = 5\n",
        "train_config = TrainingConfiguration()\n",
        "\n",
        "if torch.cuda.is_available():\n",
        "    train_config.device = \"cuda\"\n",
        "else:\n",
        "    train_config.device = \"cpu\"\n",
        "    \n",
        "    \n",
        "\n",
        "# load test data without image transformation\n",
        "test = torch.utils.data.DataLoader(\n",
        "    datasets.CIFAR10(root=train_config.data_root, train=False, download=False, \n",
        "                   transform=transforms.functional.to_tensor),\n",
        "    batch_size=batch_size,\n",
        "    shuffle=False,\n",
        "    num_workers=1\n",
        "    )\n",
        "\n",
        "try:\n",
        "    mean, std = get_mean_std_train_data(data_root)\n",
        "    assert len(mean) == len(std) == 3\n",
        "except:\n",
        "    mean = (0.5, 0.5, 0.5)\n",
        "    std = (0.5, 0.5, 0.5)\n",
        "\n",
        "# load testdata with image transformation\n",
        "image_transforms = transforms.Compose([\n",
        "    transforms.ToTensor(),\n",
        "    transforms.Normalize(mean, std)\n",
        "    ])\n",
        "\n",
        "test_trans = torch.utils.data.DataLoader(\n",
        "    datasets.CIFAR10(root=train_config.data_root, train=False, download=False, transform=image_transforms),\n",
        "    batch_size=batch_size,\n",
        "    shuffle=False,\n",
        "    num_workers=1\n",
        "    )\n",
        "\n",
        "for data, _ in test_trans:\n",
        "    # pass the loaded model\n",
        "    pred, prob = prediction(cnn_model, train_config, data)\n",
        "    break\n",
        "    \n",
        "\n",
        "plt.rcParams[\"figure.figsize\"] = (3, 3)\n",
        "for images, label in test:\n",
        "    for i, img in enumerate(images):\n",
        "        img = transforms.functional.to_pil_image(img)\n",
        "        plt.imshow(img)\n",
        "        plt.gca().set_title('Pred: {0}({1:0.2}), Label: {2}'.format(classes[pred[i]], prob[i], classes[label[i]]))\n",
        "        plt.show()\n",
        "    break"
      ],
      "execution_count": 24,
      "outputs": [
        {
          "output_type": "display_data",
          "data": {
            "text/plain": [
              "<Figure size 216x216 with 1 Axes>"
            ],
            "image/png": "[encoded data removed]"
          },
          "metadata": {
            "needs_background": "light"
          }
        },
        {
          "output_type": "display_data",
          "data": {
            "text/plain": [
              "<Figure size 216x216 with 1 Axes>"
            ],
            "image/png": "[encoded data removed]"
          },
          "metadata": {
            "needs_background": "light"
          }
        },
        {
          "output_type": "display_data",
          "data": {
            "text/plain": [
              "<Figure size 216x216 with 1 Axes>"
            ],
            "image/png": "[encoded data removed]"
          },
          "metadata": {
            "needs_background": "light"
          }
        },
        {
          "output_type": "display_data",
          "data": {
            "text/plain": [
              "<Figure size 216x216 with 1 Axes>"
            ],
            "image/png": "[encoded data removed]"
          },
          "metadata": {
            "needs_background": "light"
          }
        },
        {
          "output_type": "display_data",
          "data": {
            "text/plain": [
              "<Figure size 216x216 with 1 Axes>"
            ],
            "image/png": "[encoded data removed]"
          },
          "metadata": {
            "needs_background": "light"
          }
        }
      ]
    },
    {
      "cell_type": "markdown",
      "metadata": {
        "id": "nvMswVmpJGb1"
      },
      "source": [
        "# <font style=\"color:blue\">17. Report your findings</font>\n",
        "- \n",
        "- "
      ]
    },
    {
      "cell_type": "markdown",
      "metadata": {
        "id": "yTVSVzjFJGb2",
        "nbgrader": {
          "grade": false,
          "locked": true,
          "solution": false
        }
      },
      "source": [
        "# <font style=\"color:blue\">References</font>\n",
        "\n",
        "1. https://pytorch.org/tutorials/beginner/data_loading_tutorial.html\n",
        "1. https://pytorch.org/tutorials/beginner/saving_loading_models.html"
      ]
    }
  ]
}